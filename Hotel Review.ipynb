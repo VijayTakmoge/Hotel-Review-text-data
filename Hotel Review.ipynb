{
 "cells": [
  {
   "cell_type": "markdown",
   "id": "7a6b296f",
   "metadata": {},
   "source": [
    "\n",
    "<p style=\"background-color:purple; font-family:newtimeroman; color:#FFF9ED; font-size:200%; text-align:center; border-radius:20px; padding:20px;\"><strong>Hotel Review Text Dataset - Doc Sentiment Analysis and classification.</strong></p>\n"
   ]
  },
  {
   "cell_type": "code",
   "execution_count": null,
   "id": "3ea4e48f",
   "metadata": {},
   "outputs": [],
   "source": []
  },
  {
   "cell_type": "code",
   "execution_count": null,
   "id": "4c09f8a5",
   "metadata": {},
   "outputs": [],
   "source": []
  },
  {
   "cell_type": "markdown",
   "id": "dad40a76",
   "metadata": {},
   "source": [
    "\n",
    "<a href=\"#toc\" class=\"btn btn-primary btn-sm\" role=\"button\" aria-pressed=\"true\" \n",
    "style=\"color:black; background-color:#dfa8e4; font-size: 16px; border-width: 2px; font-weight: bold;\" data-toggle=\"popover\"><span style=\"font-size: 20px;\">AIM : </span>\n",
    "\n",
    "- The aim of the project is to use NLP and Deep learning techniques to automatically classify Hotel Review\n",
    "- documents related to customer, leveraging a dataset of Hotel texts\n",
    "- This allows the system to adapt to evolving Hotel feedback and practices."
   ]
  },
  {
   "cell_type": "markdown",
   "id": "305205bc",
   "metadata": {},
   "source": [
    "### The data is a collection of 38932  Rows and 5  column variables. Each row includes a written comment as well as additional customer information. Also each row corresponds to a customer review, and includes the variables:"
   ]
  },
  {
   "cell_type": "markdown",
   "id": "5be2f656",
   "metadata": {},
   "source": [
    "\n",
    "<a href=\"#toc\" class=\"btn btn-primary btn-sm\" role=\"button\" aria-pressed=\"true\" \n",
    "style=\"color:black; background-color:#dfa8e4; font-size: 16px; border-width: 2px; font-weight: bold;\" data-toggle=\"popover\"><span style=\"font-size: 20px;\">Feature Information: </span>\n",
    "\n",
    "- **1** - 0 :happy=26521, 1:not happy=12411\n",
    "\n",
    "- **2** - a:Text Data regarding Hotel Review feedback Text Classification categoroial"
   ]
  },
  {
   "cell_type": "markdown",
   "id": "844794fa",
   "metadata": {},
   "source": [
    "<a id=\"2\"></a>\n",
    "## <p style=\"background-color:#B61151; font-family:newtimeroman; color:#FFF9ED; font-size:150%; text-align:center; border-radius:10px 10px;\"> LIBRARIES NEEDED IN THE STUDY<p>\n"
   ]
  },
  {
   "cell_type": "code",
   "execution_count": null,
   "id": "18a474b1",
   "metadata": {},
   "outputs": [],
   "source": []
  },
  {
   "cell_type": "code",
   "execution_count": 1,
   "id": "5c0418a6",
   "metadata": {},
   "outputs": [
    {
     "name": "stdout",
     "output_type": "stream",
     "text": [
      "WARNING:tensorflow:From C:\\Users\\Vijay\\anaconda3\\Lib\\site-packages\\keras\\src\\losses.py:2976: The name tf.losses.sparse_softmax_cross_entropy is deprecated. Please use tf.compat.v1.losses.sparse_softmax_cross_entropy instead.\n",
      "\n"
     ]
    }
   ],
   "source": [
    "#LIBRARIES NEEDED IN THE STUDY\n",
    "import numpy as np\n",
    "import pandas as pd\n",
    "import matplotlib.pyplot as plt\n",
    "import os\n",
    "import sys\n",
    "import tensorflow as tf\n",
    "import keras.models\n",
    "#from keras.models import Sequential\n",
    "from keras.layers import Conv2D , MaxPool2D ,Flatten , Dense, Dropout\n",
    "#from keras.utils import to_categorical\n",
    "from tensorflow.keras.utils import to_categorical\n",
    "from PIL import Image\n",
    "from keras.models import Model, Sequential\n",
    "from keras.layers import GlobalAveragePooling2D , BatchNormalization;\n",
    "#from models import custom_convnet\n",
    "from keras.layers import Embedding\n",
    "from tensorflow.keras.layers import LSTM\n",
    "from sklearn.metrics import confusion_matrix,accuracy_score\n",
    "from sklearn.metrics import classification_report\n",
    "from keras.layers import Bidirectional\n",
    "from keras.preprocessing.text import Tokenizer\n",
    "from keras.preprocessing.sequence import pad_sequences\n",
    "from tensorflow.keras.models import Sequential\n",
    "from tensorflow.keras.layers import SimpleRNN, Dense, Embedding\n",
    "from tensorflow.keras.optimizers import Adam\n",
    "\n",
    "\n"
   ]
  },
  {
   "cell_type": "markdown",
   "id": "378ca035",
   "metadata": {},
   "source": [
    "\n",
    "<a href=\"#toc\" class=\"btn btn-primary btn-sm\" role=\"button\" aria-pressed=\"true\" \n",
    "style=\"color:black; background-color:#dfa8e4; font-size: 16px; border-width: 2px; font-weight: bold;\" data-toggle=\"popover\">\n",
    "<span style=\"font-size: 20px;\">NLP</span></a>\n",
    "\n",
    "###  In a project context, you could succinctly define NLP as \"the branch of artificial intelligence (AI)focused on enabling computers to understand,interpret, and generate human language.\""
   ]
  },
  {
   "cell_type": "markdown",
   "id": "32ea83d2",
   "metadata": {},
   "source": [
    "<a id=\"3\"></a>\n",
    "## <p style=\"background-color:#B61151; font-family:newtimeroman; color:#FFF9ED; font-size:150%; text-align:center; border-radius:10px 10px;\"> Loading and Reading Data <p>"
   ]
  },
  {
   "cell_type": "code",
   "execution_count": null,
   "id": "705d181a",
   "metadata": {},
   "outputs": [],
   "source": []
  },
  {
   "cell_type": "code",
   "execution_count": 2,
   "id": "0fa702a2",
   "metadata": {},
   "outputs": [
    {
     "data": {
      "text/html": [
       "<div>\n",
       "<style scoped>\n",
       "    .dataframe tbody tr th:only-of-type {\n",
       "        vertical-align: middle;\n",
       "    }\n",
       "\n",
       "    .dataframe tbody tr th {\n",
       "        vertical-align: top;\n",
       "    }\n",
       "\n",
       "    .dataframe thead th {\n",
       "        text-align: right;\n",
       "    }\n",
       "</style>\n",
       "<table border=\"1\" class=\"dataframe\">\n",
       "  <thead>\n",
       "    <tr style=\"text-align: right;\">\n",
       "      <th></th>\n",
       "      <th>User_ID</th>\n",
       "      <th>Description</th>\n",
       "      <th>Browser_Used</th>\n",
       "      <th>Device_Used</th>\n",
       "      <th>Is_Response</th>\n",
       "    </tr>\n",
       "  </thead>\n",
       "  <tbody>\n",
       "    <tr>\n",
       "      <th>0</th>\n",
       "      <td>id10326</td>\n",
       "      <td>The room was kind of clean but had a VERY stro...</td>\n",
       "      <td>Edge</td>\n",
       "      <td>Mobile</td>\n",
       "      <td>not happy</td>\n",
       "    </tr>\n",
       "    <tr>\n",
       "      <th>1</th>\n",
       "      <td>id10327</td>\n",
       "      <td>I stayed at the Crown Plaza April -- - April -...</td>\n",
       "      <td>Internet Explorer</td>\n",
       "      <td>Mobile</td>\n",
       "      <td>not happy</td>\n",
       "    </tr>\n",
       "    <tr>\n",
       "      <th>2</th>\n",
       "      <td>id10328</td>\n",
       "      <td>I booked this hotel through Hotwire at the low...</td>\n",
       "      <td>Mozilla</td>\n",
       "      <td>Tablet</td>\n",
       "      <td>not happy</td>\n",
       "    </tr>\n",
       "    <tr>\n",
       "      <th>3</th>\n",
       "      <td>id10329</td>\n",
       "      <td>Stayed here with husband and sons on the way t...</td>\n",
       "      <td>InternetExplorer</td>\n",
       "      <td>Desktop</td>\n",
       "      <td>happy</td>\n",
       "    </tr>\n",
       "    <tr>\n",
       "      <th>4</th>\n",
       "      <td>id10330</td>\n",
       "      <td>My girlfriends and I stayed here to celebrate ...</td>\n",
       "      <td>Edge</td>\n",
       "      <td>Tablet</td>\n",
       "      <td>not happy</td>\n",
       "    </tr>\n",
       "    <tr>\n",
       "      <th>...</th>\n",
       "      <td>...</td>\n",
       "      <td>...</td>\n",
       "      <td>...</td>\n",
       "      <td>...</td>\n",
       "      <td>...</td>\n",
       "    </tr>\n",
       "    <tr>\n",
       "      <th>38927</th>\n",
       "      <td>id49253</td>\n",
       "      <td>We arrived late at night and walked in to a ch...</td>\n",
       "      <td>Edge</td>\n",
       "      <td>Desktop</td>\n",
       "      <td>happy</td>\n",
       "    </tr>\n",
       "    <tr>\n",
       "      <th>38928</th>\n",
       "      <td>id49254</td>\n",
       "      <td>The only positive impression is location and p...</td>\n",
       "      <td>InternetExplorer</td>\n",
       "      <td>Mobile</td>\n",
       "      <td>not happy</td>\n",
       "    </tr>\n",
       "    <tr>\n",
       "      <th>38929</th>\n",
       "      <td>id49255</td>\n",
       "      <td>Traveling with friends for shopping and a show...</td>\n",
       "      <td>Firefox</td>\n",
       "      <td>Mobile</td>\n",
       "      <td>not happy</td>\n",
       "    </tr>\n",
       "    <tr>\n",
       "      <th>38930</th>\n",
       "      <td>id49256</td>\n",
       "      <td>The experience was just ok. We paid extra for ...</td>\n",
       "      <td>Chrome</td>\n",
       "      <td>Desktop</td>\n",
       "      <td>not happy</td>\n",
       "    </tr>\n",
       "    <tr>\n",
       "      <th>38931</th>\n",
       "      <td>id49257</td>\n",
       "      <td>The Westin is a wonderfully restored grande da...</td>\n",
       "      <td>Mozilla</td>\n",
       "      <td>Desktop</td>\n",
       "      <td>happy</td>\n",
       "    </tr>\n",
       "  </tbody>\n",
       "</table>\n",
       "<p>38932 rows × 5 columns</p>\n",
       "</div>"
      ],
      "text/plain": [
       "       User_ID                                        Description  \\\n",
       "0      id10326  The room was kind of clean but had a VERY stro...   \n",
       "1      id10327  I stayed at the Crown Plaza April -- - April -...   \n",
       "2      id10328  I booked this hotel through Hotwire at the low...   \n",
       "3      id10329  Stayed here with husband and sons on the way t...   \n",
       "4      id10330  My girlfriends and I stayed here to celebrate ...   \n",
       "...        ...                                                ...   \n",
       "38927  id49253  We arrived late at night and walked in to a ch...   \n",
       "38928  id49254  The only positive impression is location and p...   \n",
       "38929  id49255  Traveling with friends for shopping and a show...   \n",
       "38930  id49256  The experience was just ok. We paid extra for ...   \n",
       "38931  id49257  The Westin is a wonderfully restored grande da...   \n",
       "\n",
       "            Browser_Used Device_Used Is_Response  \n",
       "0                   Edge      Mobile   not happy  \n",
       "1      Internet Explorer      Mobile   not happy  \n",
       "2                Mozilla      Tablet   not happy  \n",
       "3       InternetExplorer     Desktop       happy  \n",
       "4                   Edge      Tablet   not happy  \n",
       "...                  ...         ...         ...  \n",
       "38927               Edge     Desktop       happy  \n",
       "38928   InternetExplorer      Mobile   not happy  \n",
       "38929            Firefox      Mobile   not happy  \n",
       "38930             Chrome     Desktop   not happy  \n",
       "38931            Mozilla     Desktop       happy  \n",
       "\n",
       "[38932 rows x 5 columns]"
      ]
     },
     "execution_count": 2,
     "metadata": {},
     "output_type": "execute_result"
    }
   ],
   "source": [
    "pd.read_csv(r'D:\\train.csv')\n"
   ]
  },
  {
   "cell_type": "code",
   "execution_count": 3,
   "id": "3865607a",
   "metadata": {},
   "outputs": [],
   "source": [
    "rw=pd.read_csv(r'D:\\train.csv')\n"
   ]
  },
  {
   "cell_type": "code",
   "execution_count": 4,
   "id": "98d6d491",
   "metadata": {},
   "outputs": [
    {
     "data": {
      "text/plain": [
       "happy        26521\n",
       "not happy    12411\n",
       "Name: Is_Response, dtype: int64"
      ]
     },
     "execution_count": 4,
     "metadata": {},
     "output_type": "execute_result"
    }
   ],
   "source": [
    "rw.Is_Response.value_counts()"
   ]
  },
  {
   "cell_type": "code",
   "execution_count": 5,
   "id": "0787f5a4",
   "metadata": {},
   "outputs": [
    {
     "data": {
      "image/png": "[encoded data removed]",
      "text/plain": [
       "<Figure size 640x480 with 1 Axes>"
      ]
     },
     "metadata": {},
     "output_type": "display_data"
    }
   ],
   "source": [
    "plt.hist(rw['Is_Response'], bins='auto', color='skyblue', edgecolor='black')\n",
    "\n",
    "plt.xlabel('Is_Response')\n",
    "plt.ylabel('count')\n",
    "plt.title('Review')\n",
    "\n",
    "plt.show()"
   ]
  },
  {
   "cell_type": "code",
   "execution_count": null,
   "id": "b7f4af37",
   "metadata": {},
   "outputs": [],
   "source": []
  },
  {
   "cell_type": "markdown",
   "id": "ae02a774",
   "metadata": {},
   "source": [
    "\n",
    "<a href=\"#toc\" class=\"btn btn-primary btn-sm\" role=\"button\" aria-pressed=\"true\" \n",
    "style=\"color:black; background-color:#dfa8e4; font-size: 16px; border-width: 2px; font-weight: bold;\" data-toggle=\"popover\">\n",
    "<span style=\"font-size: 20px;\">Data Analysis</span></a>\n"
   ]
  },
  {
   "cell_type": "code",
   "execution_count": 6,
   "id": "02a00ca8",
   "metadata": {},
   "outputs": [
    {
     "data": {
      "text/plain": [
       "User_ID         False\n",
       "Description     False\n",
       "Browser_Used    False\n",
       "Device_Used     False\n",
       "Is_Response     False\n",
       "dtype: bool"
      ]
     },
     "execution_count": 6,
     "metadata": {},
     "output_type": "execute_result"
    }
   ],
   "source": [
    "rw.isnull().sum()>0"
   ]
  },
  {
   "cell_type": "code",
   "execution_count": 7,
   "id": "3da06de5",
   "metadata": {},
   "outputs": [],
   "source": [
    "rw=rw.loc[:,['Description','Is_Response']]"
   ]
  },
  {
   "cell_type": "code",
   "execution_count": 8,
   "id": "dbb440aa",
   "metadata": {},
   "outputs": [
    {
     "data": {
      "text/html": [
       "<div>\n",
       "<style scoped>\n",
       "    .dataframe tbody tr th:only-of-type {\n",
       "        vertical-align: middle;\n",
       "    }\n",
       "\n",
       "    .dataframe tbody tr th {\n",
       "        vertical-align: top;\n",
       "    }\n",
       "\n",
       "    .dataframe thead th {\n",
       "        text-align: right;\n",
       "    }\n",
       "</style>\n",
       "<table border=\"1\" class=\"dataframe\">\n",
       "  <thead>\n",
       "    <tr style=\"text-align: right;\">\n",
       "      <th></th>\n",
       "      <th>Description</th>\n",
       "      <th>Is_Response</th>\n",
       "    </tr>\n",
       "  </thead>\n",
       "  <tbody>\n",
       "    <tr>\n",
       "      <th>0</th>\n",
       "      <td>The room was kind of clean but had a VERY stro...</td>\n",
       "      <td>not happy</td>\n",
       "    </tr>\n",
       "    <tr>\n",
       "      <th>1</th>\n",
       "      <td>I stayed at the Crown Plaza April -- - April -...</td>\n",
       "      <td>not happy</td>\n",
       "    </tr>\n",
       "    <tr>\n",
       "      <th>2</th>\n",
       "      <td>I booked this hotel through Hotwire at the low...</td>\n",
       "      <td>not happy</td>\n",
       "    </tr>\n",
       "    <tr>\n",
       "      <th>3</th>\n",
       "      <td>Stayed here with husband and sons on the way t...</td>\n",
       "      <td>happy</td>\n",
       "    </tr>\n",
       "    <tr>\n",
       "      <th>4</th>\n",
       "      <td>My girlfriends and I stayed here to celebrate ...</td>\n",
       "      <td>not happy</td>\n",
       "    </tr>\n",
       "    <tr>\n",
       "      <th>...</th>\n",
       "      <td>...</td>\n",
       "      <td>...</td>\n",
       "    </tr>\n",
       "    <tr>\n",
       "      <th>38927</th>\n",
       "      <td>We arrived late at night and walked in to a ch...</td>\n",
       "      <td>happy</td>\n",
       "    </tr>\n",
       "    <tr>\n",
       "      <th>38928</th>\n",
       "      <td>The only positive impression is location and p...</td>\n",
       "      <td>not happy</td>\n",
       "    </tr>\n",
       "    <tr>\n",
       "      <th>38929</th>\n",
       "      <td>Traveling with friends for shopping and a show...</td>\n",
       "      <td>not happy</td>\n",
       "    </tr>\n",
       "    <tr>\n",
       "      <th>38930</th>\n",
       "      <td>The experience was just ok. We paid extra for ...</td>\n",
       "      <td>not happy</td>\n",
       "    </tr>\n",
       "    <tr>\n",
       "      <th>38931</th>\n",
       "      <td>The Westin is a wonderfully restored grande da...</td>\n",
       "      <td>happy</td>\n",
       "    </tr>\n",
       "  </tbody>\n",
       "</table>\n",
       "<p>38932 rows × 2 columns</p>\n",
       "</div>"
      ],
      "text/plain": [
       "                                             Description Is_Response\n",
       "0      The room was kind of clean but had a VERY stro...   not happy\n",
       "1      I stayed at the Crown Plaza April -- - April -...   not happy\n",
       "2      I booked this hotel through Hotwire at the low...   not happy\n",
       "3      Stayed here with husband and sons on the way t...       happy\n",
       "4      My girlfriends and I stayed here to celebrate ...   not happy\n",
       "...                                                  ...         ...\n",
       "38927  We arrived late at night and walked in to a ch...       happy\n",
       "38928  The only positive impression is location and p...   not happy\n",
       "38929  Traveling with friends for shopping and a show...   not happy\n",
       "38930  The experience was just ok. We paid extra for ...   not happy\n",
       "38931  The Westin is a wonderfully restored grande da...       happy\n",
       "\n",
       "[38932 rows x 2 columns]"
      ]
     },
     "execution_count": 8,
     "metadata": {},
     "output_type": "execute_result"
    }
   ],
   "source": [
    "rw"
   ]
  },
  {
   "cell_type": "code",
   "execution_count": 9,
   "id": "be8e83d3",
   "metadata": {},
   "outputs": [],
   "source": [
    "rw=rw.rename(columns={'Is_Response':'y','Description':'x'})"
   ]
  },
  {
   "cell_type": "code",
   "execution_count": 10,
   "id": "33fb6365",
   "metadata": {},
   "outputs": [
    {
     "data": {
      "text/html": [
       "<div>\n",
       "<style scoped>\n",
       "    .dataframe tbody tr th:only-of-type {\n",
       "        vertical-align: middle;\n",
       "    }\n",
       "\n",
       "    .dataframe tbody tr th {\n",
       "        vertical-align: top;\n",
       "    }\n",
       "\n",
       "    .dataframe thead th {\n",
       "        text-align: right;\n",
       "    }\n",
       "</style>\n",
       "<table border=\"1\" class=\"dataframe\">\n",
       "  <thead>\n",
       "    <tr style=\"text-align: right;\">\n",
       "      <th></th>\n",
       "      <th>x</th>\n",
       "      <th>y</th>\n",
       "    </tr>\n",
       "  </thead>\n",
       "  <tbody>\n",
       "    <tr>\n",
       "      <th>0</th>\n",
       "      <td>The room was kind of clean but had a VERY stro...</td>\n",
       "      <td>not happy</td>\n",
       "    </tr>\n",
       "    <tr>\n",
       "      <th>1</th>\n",
       "      <td>I stayed at the Crown Plaza April -- - April -...</td>\n",
       "      <td>not happy</td>\n",
       "    </tr>\n",
       "    <tr>\n",
       "      <th>2</th>\n",
       "      <td>I booked this hotel through Hotwire at the low...</td>\n",
       "      <td>not happy</td>\n",
       "    </tr>\n",
       "    <tr>\n",
       "      <th>3</th>\n",
       "      <td>Stayed here with husband and sons on the way t...</td>\n",
       "      <td>happy</td>\n",
       "    </tr>\n",
       "    <tr>\n",
       "      <th>4</th>\n",
       "      <td>My girlfriends and I stayed here to celebrate ...</td>\n",
       "      <td>not happy</td>\n",
       "    </tr>\n",
       "    <tr>\n",
       "      <th>...</th>\n",
       "      <td>...</td>\n",
       "      <td>...</td>\n",
       "    </tr>\n",
       "    <tr>\n",
       "      <th>38927</th>\n",
       "      <td>We arrived late at night and walked in to a ch...</td>\n",
       "      <td>happy</td>\n",
       "    </tr>\n",
       "    <tr>\n",
       "      <th>38928</th>\n",
       "      <td>The only positive impression is location and p...</td>\n",
       "      <td>not happy</td>\n",
       "    </tr>\n",
       "    <tr>\n",
       "      <th>38929</th>\n",
       "      <td>Traveling with friends for shopping and a show...</td>\n",
       "      <td>not happy</td>\n",
       "    </tr>\n",
       "    <tr>\n",
       "      <th>38930</th>\n",
       "      <td>The experience was just ok. We paid extra for ...</td>\n",
       "      <td>not happy</td>\n",
       "    </tr>\n",
       "    <tr>\n",
       "      <th>38931</th>\n",
       "      <td>The Westin is a wonderfully restored grande da...</td>\n",
       "      <td>happy</td>\n",
       "    </tr>\n",
       "  </tbody>\n",
       "</table>\n",
       "<p>38932 rows × 2 columns</p>\n",
       "</div>"
      ],
      "text/plain": [
       "                                                       x          y\n",
       "0      The room was kind of clean but had a VERY stro...  not happy\n",
       "1      I stayed at the Crown Plaza April -- - April -...  not happy\n",
       "2      I booked this hotel through Hotwire at the low...  not happy\n",
       "3      Stayed here with husband and sons on the way t...      happy\n",
       "4      My girlfriends and I stayed here to celebrate ...  not happy\n",
       "...                                                  ...        ...\n",
       "38927  We arrived late at night and walked in to a ch...      happy\n",
       "38928  The only positive impression is location and p...  not happy\n",
       "38929  Traveling with friends for shopping and a show...  not happy\n",
       "38930  The experience was just ok. We paid extra for ...  not happy\n",
       "38931  The Westin is a wonderfully restored grande da...      happy\n",
       "\n",
       "[38932 rows x 2 columns]"
      ]
     },
     "execution_count": 10,
     "metadata": {},
     "output_type": "execute_result"
    }
   ],
   "source": [
    "rw"
   ]
  },
  {
   "cell_type": "code",
   "execution_count": null,
   "id": "88ab50ab",
   "metadata": {},
   "outputs": [],
   "source": []
  },
  {
   "cell_type": "code",
   "execution_count": 11,
   "id": "7a6a1a51",
   "metadata": {},
   "outputs": [
    {
     "data": {
      "text/plain": [
       "happy        26521\n",
       "not happy    12411\n",
       "Name: y, dtype: int64"
      ]
     },
     "execution_count": 11,
     "metadata": {},
     "output_type": "execute_result"
    }
   ],
   "source": [
    "rw.y.value_counts()"
   ]
  },
  {
   "cell_type": "code",
   "execution_count": 12,
   "id": "3603a01a",
   "metadata": {},
   "outputs": [],
   "source": [
    "rw=rw.replace({'happy':0,'not happy':1})"
   ]
  },
  {
   "cell_type": "code",
   "execution_count": 13,
   "id": "f3c9f196",
   "metadata": {},
   "outputs": [
    {
     "data": {
      "text/html": [
       "<div>\n",
       "<style scoped>\n",
       "    .dataframe tbody tr th:only-of-type {\n",
       "        vertical-align: middle;\n",
       "    }\n",
       "\n",
       "    .dataframe tbody tr th {\n",
       "        vertical-align: top;\n",
       "    }\n",
       "\n",
       "    .dataframe thead th {\n",
       "        text-align: right;\n",
       "    }\n",
       "</style>\n",
       "<table border=\"1\" class=\"dataframe\">\n",
       "  <thead>\n",
       "    <tr style=\"text-align: right;\">\n",
       "      <th></th>\n",
       "      <th>x</th>\n",
       "      <th>y</th>\n",
       "    </tr>\n",
       "  </thead>\n",
       "  <tbody>\n",
       "    <tr>\n",
       "      <th>0</th>\n",
       "      <td>The room was kind of clean but had a VERY stro...</td>\n",
       "      <td>1</td>\n",
       "    </tr>\n",
       "    <tr>\n",
       "      <th>1</th>\n",
       "      <td>I stayed at the Crown Plaza April -- - April -...</td>\n",
       "      <td>1</td>\n",
       "    </tr>\n",
       "    <tr>\n",
       "      <th>2</th>\n",
       "      <td>I booked this hotel through Hotwire at the low...</td>\n",
       "      <td>1</td>\n",
       "    </tr>\n",
       "    <tr>\n",
       "      <th>3</th>\n",
       "      <td>Stayed here with husband and sons on the way t...</td>\n",
       "      <td>0</td>\n",
       "    </tr>\n",
       "    <tr>\n",
       "      <th>4</th>\n",
       "      <td>My girlfriends and I stayed here to celebrate ...</td>\n",
       "      <td>1</td>\n",
       "    </tr>\n",
       "    <tr>\n",
       "      <th>...</th>\n",
       "      <td>...</td>\n",
       "      <td>...</td>\n",
       "    </tr>\n",
       "    <tr>\n",
       "      <th>38927</th>\n",
       "      <td>We arrived late at night and walked in to a ch...</td>\n",
       "      <td>0</td>\n",
       "    </tr>\n",
       "    <tr>\n",
       "      <th>38928</th>\n",
       "      <td>The only positive impression is location and p...</td>\n",
       "      <td>1</td>\n",
       "    </tr>\n",
       "    <tr>\n",
       "      <th>38929</th>\n",
       "      <td>Traveling with friends for shopping and a show...</td>\n",
       "      <td>1</td>\n",
       "    </tr>\n",
       "    <tr>\n",
       "      <th>38930</th>\n",
       "      <td>The experience was just ok. We paid extra for ...</td>\n",
       "      <td>1</td>\n",
       "    </tr>\n",
       "    <tr>\n",
       "      <th>38931</th>\n",
       "      <td>The Westin is a wonderfully restored grande da...</td>\n",
       "      <td>0</td>\n",
       "    </tr>\n",
       "  </tbody>\n",
       "</table>\n",
       "<p>38932 rows × 2 columns</p>\n",
       "</div>"
      ],
      "text/plain": [
       "                                                       x  y\n",
       "0      The room was kind of clean but had a VERY stro...  1\n",
       "1      I stayed at the Crown Plaza April -- - April -...  1\n",
       "2      I booked this hotel through Hotwire at the low...  1\n",
       "3      Stayed here with husband and sons on the way t...  0\n",
       "4      My girlfriends and I stayed here to celebrate ...  1\n",
       "...                                                  ... ..\n",
       "38927  We arrived late at night and walked in to a ch...  0\n",
       "38928  The only positive impression is location and p...  1\n",
       "38929  Traveling with friends for shopping and a show...  1\n",
       "38930  The experience was just ok. We paid extra for ...  1\n",
       "38931  The Westin is a wonderfully restored grande da...  0\n",
       "\n",
       "[38932 rows x 2 columns]"
      ]
     },
     "execution_count": 13,
     "metadata": {},
     "output_type": "execute_result"
    }
   ],
   "source": [
    "rw"
   ]
  },
  {
   "cell_type": "code",
   "execution_count": null,
   "id": "12b70d17",
   "metadata": {},
   "outputs": [],
   "source": []
  },
  {
   "cell_type": "markdown",
   "id": "f18c8804",
   "metadata": {},
   "source": [
    "\n",
    "\n",
    "<a href=\"#toc\" class=\"btn btn-primary btn-sm\" role=\"button\" aria-pressed=\"true\" \n",
    "style=\"color:black; background-color:#dfa8e4; font-size: 16px; border-width: 2px; font-weight: bold;\" data-toggle=\"popover\">\n",
    "<span style=\"font-size: 20px;\">Lower String</span></a>\n"
   ]
  },
  {
   "cell_type": "code",
   "execution_count": 14,
   "id": "337f3e2a",
   "metadata": {},
   "outputs": [],
   "source": [
    "rw.x=rw.x.str.lower()\n",
    "# before doing any analysis convert data into lower or upper"
   ]
  },
  {
   "cell_type": "code",
   "execution_count": 15,
   "id": "e98dd826",
   "metadata": {},
   "outputs": [
    {
     "data": {
      "text/html": [
       "<div>\n",
       "<style scoped>\n",
       "    .dataframe tbody tr th:only-of-type {\n",
       "        vertical-align: middle;\n",
       "    }\n",
       "\n",
       "    .dataframe tbody tr th {\n",
       "        vertical-align: top;\n",
       "    }\n",
       "\n",
       "    .dataframe thead th {\n",
       "        text-align: right;\n",
       "    }\n",
       "</style>\n",
       "<table border=\"1\" class=\"dataframe\">\n",
       "  <thead>\n",
       "    <tr style=\"text-align: right;\">\n",
       "      <th></th>\n",
       "      <th>x</th>\n",
       "      <th>y</th>\n",
       "    </tr>\n",
       "  </thead>\n",
       "  <tbody>\n",
       "    <tr>\n",
       "      <th>0</th>\n",
       "      <td>the room was kind of clean but had a very stro...</td>\n",
       "      <td>1</td>\n",
       "    </tr>\n",
       "    <tr>\n",
       "      <th>1</th>\n",
       "      <td>i stayed at the crown plaza april -- - april -...</td>\n",
       "      <td>1</td>\n",
       "    </tr>\n",
       "    <tr>\n",
       "      <th>2</th>\n",
       "      <td>i booked this hotel through hotwire at the low...</td>\n",
       "      <td>1</td>\n",
       "    </tr>\n",
       "    <tr>\n",
       "      <th>3</th>\n",
       "      <td>stayed here with husband and sons on the way t...</td>\n",
       "      <td>0</td>\n",
       "    </tr>\n",
       "    <tr>\n",
       "      <th>4</th>\n",
       "      <td>my girlfriends and i stayed here to celebrate ...</td>\n",
       "      <td>1</td>\n",
       "    </tr>\n",
       "  </tbody>\n",
       "</table>\n",
       "</div>"
      ],
      "text/plain": [
       "                                                   x  y\n",
       "0  the room was kind of clean but had a very stro...  1\n",
       "1  i stayed at the crown plaza april -- - april -...  1\n",
       "2  i booked this hotel through hotwire at the low...  1\n",
       "3  stayed here with husband and sons on the way t...  0\n",
       "4  my girlfriends and i stayed here to celebrate ...  1"
      ]
     },
     "execution_count": 15,
     "metadata": {},
     "output_type": "execute_result"
    }
   ],
   "source": [
    "rw.head()"
   ]
  },
  {
   "cell_type": "markdown",
   "id": "4facbe00",
   "metadata": {},
   "source": [
    "\n",
    "\n",
    "<a href=\"#toc\" class=\"btn btn-primary btn-sm\" role=\"button\" aria-pressed=\"true\" \n",
    "style=\"color:black; background-color:#dfa8e4; font-size: 16px; border-width: 2px; font-weight: bold;\" data-toggle=\"popover\">\n",
    "<span style=\"font-size: 20px;\">Stop words</span></a>\n"
   ]
  },
  {
   "cell_type": "code",
   "execution_count": 16,
   "id": "a0716124",
   "metadata": {},
   "outputs": [],
   "source": [
    "from nltk.corpus import stopwords\n",
    "l1=stopwords.words(\"english\")\n",
    "# we remove them"
   ]
  },
  {
   "cell_type": "markdown",
   "id": "4f5b8829",
   "metadata": {},
   "source": [
    "\n",
    "<a href=\"#toc\" class=\"btn btn-primary btn-sm\" role=\"button\" aria-pressed=\"true\" \n",
    "style=\"color:black; background-color:#dfa8e4; font-size: 16px; border-width: 2px; font-weight: bold;\" data-toggle=\"popover\">\n",
    "<span style=\"font-size: 20px;\">punctuation</span></a>\n"
   ]
  },
  {
   "cell_type": "code",
   "execution_count": 17,
   "id": "54342e2a",
   "metadata": {},
   "outputs": [
    {
     "data": {
      "text/plain": [
       "'!\"#$%&\\'()*+,-./:;<=>?@[\\\\]^_`{|}~'"
      ]
     },
     "execution_count": 17,
     "metadata": {},
     "output_type": "execute_result"
    }
   ],
   "source": [
    "import string\n",
    "\n",
    "string.punctuation"
   ]
  },
  {
   "cell_type": "code",
   "execution_count": null,
   "id": "6b5eebab",
   "metadata": {},
   "outputs": [],
   "source": []
  },
  {
   "cell_type": "code",
   "execution_count": 18,
   "id": "472940e8",
   "metadata": {},
   "outputs": [],
   "source": [
    "def text_process(mess):\n",
    "    \"\"\"\n",
    "    1. remove the punctuation\n",
    "    2. remove the stopwords\n",
    "    3. return the list of clean textwords\n",
    "    \n",
    "    \"\"\"\n",
    "    nopunc=[char for char in mess if char not in string.punctuation]\n",
    "    nopunc=\"\".join(nopunc)\n",
    "    \n",
    "    return [word for word in nopunc.split() if word not in l1]"
   ]
  },
  {
   "cell_type": "code",
   "execution_count": null,
   "id": "67156354",
   "metadata": {},
   "outputs": [],
   "source": []
  },
  {
   "cell_type": "code",
   "execution_count": 19,
   "id": "8d602795",
   "metadata": {},
   "outputs": [
    {
     "data": {
      "text/plain": [
       "0        [room, kind, clean, strong, smell, dogs, gener...\n",
       "1        [stayed, crown, plaza, april, april, staff, fr...\n",
       "2        [booked, hotel, hotwire, lowest, price, could,...\n",
       "3        [stayed, husband, sons, way, alaska, cruise, l...\n",
       "4        [girlfriends, stayed, celebrate, th, birthdays...\n",
       "                               ...                        \n",
       "38927    [arrived, late, night, walked, checkin, area, ...\n",
       "38928    [positive, impression, location, public, parki...\n",
       "38929    [traveling, friends, shopping, show, location,...\n",
       "38930    [experience, ok, paid, extra, view, pool, got,...\n",
       "38931    [westin, wonderfully, restored, grande, dame, ...\n",
       "Name: x, Length: 38932, dtype: object"
      ]
     },
     "execution_count": 19,
     "metadata": {},
     "output_type": "execute_result"
    }
   ],
   "source": [
    "rw['x'].apply(text_process)"
   ]
  },
  {
   "cell_type": "markdown",
   "id": "a836db12",
   "metadata": {},
   "source": [
    "\n",
    "\n",
    "<a href=\"#toc\" class=\"btn btn-primary btn-sm\" role=\"button\" aria-pressed=\"true\" \n",
    "style=\"color:black; background-color:#dfa8e4; font-size: 16px; border-width: 2px; font-weight: bold;\" data-toggle=\"popover\">\n",
    "<span style=\"font-size: 20px;\">Create TDM</span></a>\n"
   ]
  },
  {
   "cell_type": "code",
   "execution_count": 20,
   "id": "332594e6",
   "metadata": {},
   "outputs": [],
   "source": [
    "from sklearn.feature_extraction.text import CountVectorizer  # this is used to count each and every unique word..."
   ]
  },
  {
   "cell_type": "code",
   "execution_count": 21,
   "id": "0fe0f969",
   "metadata": {},
   "outputs": [
    {
     "name": "stdout",
     "output_type": "stream",
     "text": [
      "Program executed in  11.806657699984498\n"
     ]
    }
   ],
   "source": [
    "import timeit\n",
    "start=timeit.default_timer()\n",
    "\n",
    "bow_transformer=CountVectorizer(analyzer=text_process).fit(rw['x'])\n",
    "\n",
    "stop=timeit.default_timer()\n",
    "execution_time=stop-start\n",
    "print(\"Program executed in \",execution_time)"
   ]
  },
  {
   "cell_type": "code",
   "execution_count": 22,
   "id": "da651d29",
   "metadata": {},
   "outputs": [],
   "source": [
    "bow_transformer=CountVectorizer(analyzer=text_process).fit(rw['x'])"
   ]
  },
  {
   "cell_type": "code",
   "execution_count": 23,
   "id": "490d3395",
   "metadata": {},
   "outputs": [
    {
     "data": {
      "text/plain": [
       "{'room': 49896,\n",
       " 'kind': 32086,\n",
       " 'clean': 11022,\n",
       " 'strong': 56860,\n",
       " 'smell': 54069,\n",
       " 'dogs': 17154,\n",
       " 'generally': 24428,\n",
       " 'average': 3978,\n",
       " 'ok': 40674,\n",
       " 'overnight': 41881,\n",
       " 'stay': 56082,\n",
       " 'youre': 66904,\n",
       " 'fussy': 24045,\n",
       " 'would': 66308,\n",
       " 'consider': 12868,\n",
       " 'staying': 56139,\n",
       " 'price': 45438,\n",
       " 'right': 49476,\n",
       " 'breakfast': 7339,\n",
       " 'free': 23319,\n",
       " 'better': 6032,\n",
       " 'nothing': 39912,\n",
       " 'stayed': 56113,\n",
       " 'crown': 14204,\n",
       " 'plaza': 44203,\n",
       " 'april': 2849,\n",
       " 'staff': 55642,\n",
       " 'friendly': 23553,\n",
       " 'attentive': 3658,\n",
       " 'elevators': 18886,\n",
       " 'tiny': 59833,\n",
       " 'food': 22818,\n",
       " 'restaurant': 48851,\n",
       " 'delicious': 15475,\n",
       " 'priced': 45447,\n",
       " 'little': 33684,\n",
       " 'high': 27315,\n",
       " 'side': 53143,\n",
       " 'course': 13707,\n",
       " 'washington': 64508,\n",
       " 'dc': 14960,\n",
       " 'pool': 44591,\n",
       " 'children': 10369,\n",
       " 'fifth': 21902,\n",
       " 'floor': 22518,\n",
       " 'two': 61607,\n",
       " 'comfortable': 11902,\n",
       " 'beds': 5472,\n",
       " 'plenty': 44290,\n",
       " 'space': 54878,\n",
       " 'one': 40906,\n",
       " 'person': 43383,\n",
       " 'tv': 61479,\n",
       " 'small': 53992,\n",
       " 'todays': 59976,\n",
       " 'standards': 55831,\n",
       " 'limited': 33497,\n",
       " 'number': 40079,\n",
       " 'channels': 9866,\n",
       " 'bit': 6344,\n",
       " 'mold': 37418,\n",
       " 'bathtub': 5090,\n",
       " 'area': 2937,\n",
       " 'could': 13616,\n",
       " 'removed': 48279,\n",
       " 'bleach': 6477,\n",
       " 'appeared': 2688,\n",
       " 'carpets': 9174,\n",
       " 'vacummed': 63151,\n",
       " 'every': 20161,\n",
       " 'day': 14836,\n",
       " 'reported': 48488,\n",
       " 'light': 33387,\n",
       " 'bulb': 8024,\n",
       " 'burned': 8166,\n",
       " 'never': 38868,\n",
       " 'replaced': 48452,\n",
       " 'ice': 28993,\n",
       " 'machines': 34820,\n",
       " 'odd': 40428,\n",
       " 'numbered': 40081,\n",
       " 'floors': 22570,\n",
       " 'work': 66130,\n",
       " 'encountered': 19280,\n",
       " 'elevator': 18876,\n",
       " 'evening': 20088,\n",
       " 'mentioned': 36221,\n",
       " 'machine': 34810,\n",
       " 'severel': 52317,\n",
       " 'hours': 28483,\n",
       " 'later': 32779,\n",
       " 'maid': 34963,\n",
       " 'door': 17298,\n",
       " 'mints': 36977,\n",
       " 'im': 29203,\n",
       " 'sure': 57617,\n",
       " 'knew': 32259,\n",
       " 'unnerving': 62444,\n",
       " 'business': 8226,\n",
       " 'come': 11865,\n",
       " 'vacation': 63122,\n",
       " 'booked': 6860,\n",
       " 'hotel': 28112,\n",
       " 'hotwire': 28447,\n",
       " 'lowest': 34489,\n",
       " 'find': 22017,\n",
       " 'got': 25185,\n",
       " 'front': 23715,\n",
       " 'desk': 15847,\n",
       " 'manager': 35177,\n",
       " 'gave': 24344,\n",
       " 'us': 62935,\n",
       " 'smoking': 54152,\n",
       " 'argued': 3046,\n",
       " 'baby': 4206,\n",
       " 'known': 32328,\n",
       " 'hear': 26806,\n",
       " 'anything': 2522,\n",
       " 'told': 60073,\n",
       " 'books': 6898,\n",
       " 'cheapest': 10060,\n",
       " 'rooms': 50048,\n",
       " 'available': 3895,\n",
       " 'get': 24568,\n",
       " 'go': 24929,\n",
       " 'unhappy': 62263,\n",
       " 'great': 25438,\n",
       " 'deal': 15005,\n",
       " 'persuasion': 43456,\n",
       " 'discussion': 16701,\n",
       " 'nonsmoking': 39706,\n",
       " 'thereafter': 59065,\n",
       " 'minimal': 36877,\n",
       " 'amenities': 1945,\n",
       " 'besides': 5963,\n",
       " 'location': 33904,\n",
       " 'near': 38551,\n",
       " 'dupont': 18201,\n",
       " 'circle': 10745,\n",
       " 'much': 38013,\n",
       " 'say': 51143,\n",
       " 'overpriced': 41912,\n",
       " 'condition': 12586,\n",
       " 'bathroom': 5015,\n",
       " 'tub': 61297,\n",
       " 'also': 1759,\n",
       " 'fridge': 23504,\n",
       " 'microwave': 36523,\n",
       " 'rent': 48368,\n",
       " 'keep': 31878,\n",
       " 'things': 59225,\n",
       " 'parking': 42464,\n",
       " 'costs': 13568,\n",
       " 'per': 43193,\n",
       " 'best': 5971,\n",
       " 'drive': 17922,\n",
       " 'included': 29528,\n",
       " 'lobby': 33788,\n",
       " 'feels': 21710,\n",
       " 'old': 40737,\n",
       " 'thing': 59213,\n",
       " 'coffee': 11565,\n",
       " 'decent': 15107,\n",
       " 'poor': 44653,\n",
       " 'service': 52141,\n",
       " 'bathrooms': 5048,\n",
       " 'view': 63659,\n",
       " 'distance': 16922,\n",
       " 'metro': 36377,\n",
       " 'either': 18777,\n",
       " 'mcpherson': 35907,\n",
       " 'station': 56022,\n",
       " 'try': 61259,\n",
       " 'look': 34224,\n",
       " 'husband': 28870,\n",
       " 'sons': 54660,\n",
       " 'way': 64713,\n",
       " 'alaska': 1440,\n",
       " 'cruise': 14225,\n",
       " 'loved': 34429,\n",
       " 'experience': 20745,\n",
       " 'ask': 3344,\n",
       " 'north': 39805,\n",
       " 'tower': 60481,\n",
       " 'facing': 21156,\n",
       " 'west': 65208,\n",
       " 'views': 63691,\n",
       " 'stunning': 56960,\n",
       " 'needle': 38659,\n",
       " 'city': 10813,\n",
       " 'even': 20084,\n",
       " 'ships': 52708,\n",
       " 'ordered': 41300,\n",
       " 'dinner': 16390,\n",
       " 'enjoy': 19414,\n",
       " 'perfect': 43223,\n",
       " 'dinners': 16406,\n",
       " 'spot': 55313,\n",
       " 'walk': 64170,\n",
       " 'everywhere': 20238,\n",
       " 'almost': 1716,\n",
       " 'forgot': 22996,\n",
       " 'heavenly': 26892,\n",
       " 'girlfriends': 24741,\n",
       " 'celebrate': 9524,\n",
       " 'th': 58865,\n",
       " 'birthdays': 6317,\n",
       " 'planned': 44098,\n",
       " 'weekend': 64892,\n",
       " 'getaway': 24571,\n",
       " 'back': 4231,\n",
       " 'february': 21668,\n",
       " 'looking': 34236,\n",
       " 'forward': 23088,\n",
       " 'rented': 48374,\n",
       " 'ajoining': 1392,\n",
       " 'rate': 47011,\n",
       " 'nightroom': 39244,\n",
       " 'nights': 39246,\n",
       " 'taxes': 58401,\n",
       " 'charges': 9948,\n",
       " 'spent': 55143,\n",
       " 'total': 60318,\n",
       " 'expected': 20644,\n",
       " 'certain': 9692,\n",
       " 'level': 33233,\n",
       " 'since': 53365,\n",
       " 'ritz': 49595,\n",
       " 'however': 28598,\n",
       " 'certainly': 9693,\n",
       " 'didnt': 16156,\n",
       " 'meet': 36067,\n",
       " 'fine': 22030,\n",
       " 'well': 65002,\n",
       " 'appointed': 2757,\n",
       " 'excited': 20454,\n",
       " 'awful': 4139,\n",
       " 'first': 22177,\n",
       " 'night': 39149,\n",
       " 'made': 34861,\n",
       " 'calls': 8691,\n",
       " 'bell': 5745,\n",
       " 'man': 35153,\n",
       " 'someone': 54589,\n",
       " 'communications': 12111,\n",
       " 'picked': 43710,\n",
       " 'phone': 43627,\n",
       " 'saturday': 51039,\n",
       " 'left': 33051,\n",
       " 'requested': 48550,\n",
       " 'extra': 20948,\n",
       " 'hotels': 28294,\n",
       " 'delivered': 15531,\n",
       " 'trash': 60778,\n",
       " 'returned': 49187,\n",
       " 'neither': 38793,\n",
       " 'request': 48546,\n",
       " 'fullfilled': 23853,\n",
       " 'another': 2378,\n",
       " 'call': 8665,\n",
       " 'housekeeping': 28534,\n",
       " 'finally': 22001,\n",
       " 'taken': 58168,\n",
       " 'care': 9023,\n",
       " 'opinion': 41193,\n",
       " 'rates': 47031,\n",
       " 'paying': 42883,\n",
       " 'nightly': 39218,\n",
       " 'turn': 61423,\n",
       " 'speak': 55017,\n",
       " 'checked': 10095,\n",
       " 'said': 50716,\n",
       " 'make': 35036,\n",
       " 'worth': 66283,\n",
       " 'return': 49182,\n",
       " 'received': 47380,\n",
       " 'letter': 33217,\n",
       " 'apology': 2645,\n",
       " 'needless': 38664,\n",
       " 'plans': 44106,\n",
       " 'four': 23132,\n",
       " 'seasons': 51638,\n",
       " 'boston': 6993,\n",
       " 'wonderful': 66023,\n",
       " 'impeccable': 29311,\n",
       " 'seaons': 51605,\n",
       " 'willing': 65664,\n",
       " 'pay': 42873,\n",
       " 'carlton': 9093,\n",
       " 'prices': 45495,\n",
       " 'recommend': 47527,\n",
       " 'instead': 30219,\n",
       " 'nice': 39004,\n",
       " 'clearly': 11155,\n",
       " 'updated': 62737,\n",
       " 'recently': 47391,\n",
       " 'bed': 5367,\n",
       " 'comfy': 11987,\n",
       " 'needed': 38642,\n",
       " 'updating': 62754,\n",
       " 'carpet': 9160,\n",
       " 'wrinkled': 66417,\n",
       " 'example': 20325,\n",
       " 'visiting': 63819,\n",
       " 'inner': 30030,\n",
       " 'harbor': 26492,\n",
       " 'getting': 24587,\n",
       " 'fells': 21757,\n",
       " 'point': 44450,\n",
       " 'orioles': 41397,\n",
       " 'games': 24174,\n",
       " 'etc': 19936,\n",
       " 'supershuttle': 57516,\n",
       " 'bwi': 8421,\n",
       " 'worked': 66140,\n",
       " 'ways': 64727,\n",
       " 'remotes': 48271,\n",
       " 'terrible': 58776,\n",
       " 'watch': 64581,\n",
       " 'big': 6173,\n",
       " 'wireless': 65841,\n",
       " 'sketchy': 53604,\n",
       " 'need': 38637,\n",
       " 'really': 47230,\n",
       " 'matter': 35749,\n",
       " 'good': 25024,\n",
       " 'morning': 37714,\n",
       " 'town': 60507,\n",
       " 'times': 59754,\n",
       " 'though': 59362,\n",
       " 'fanciest': 21352,\n",
       " 'love': 34428,\n",
       " 'fact': 21163,\n",
       " 'miles': 36719,\n",
       " 'fenway': 21783,\n",
       " 'accomodating': 330,\n",
       " 'complaint': 12268,\n",
       " 'fan': 21339,\n",
       " 'noisy': 39505,\n",
       " 'went': 65168,\n",
       " 'automatically': 3864,\n",
       " 'turned': 61431,\n",
       " 'tried': 61026,\n",
       " 'possible': 44842,\n",
       " 'weve': 65276,\n",
       " 'pricier': 45526,\n",
       " 'charged': 9929,\n",
       " 'internet': 30406,\n",
       " 'wife': 65585,\n",
       " 'glorious': 24886,\n",
       " 'sf': 52343,\n",
       " 'expensive': 20708,\n",
       " 'found': 23115,\n",
       " 'super': 57436,\n",
       " 'reasonable': 47273,\n",
       " 'means': 35959,\n",
       " 'star': 55882,\n",
       " 'wellappointed': 65012,\n",
       " 'quaint': 46406,\n",
       " 'charm': 9985,\n",
       " 'despite': 15920,\n",
       " 'regardless': 47914,\n",
       " 'helpful': 27002,\n",
       " 'particularly': 42605,\n",
       " 'enjoyed': 19424,\n",
       " 'winetasting': 65784,\n",
       " 'evenings': 20097,\n",
       " 'polite': 44517,\n",
       " 'overall': 41742,\n",
       " 'id': 29037,\n",
       " 'place': 44007,\n",
       " 'singles': 53393,\n",
       " 'couples': 13685,\n",
       " 'present': 45292,\n",
       " 'probably': 45670,\n",
       " 'bigger': 6185,\n",
       " 'proximity': 46096,\n",
       " 'everything': 20200,\n",
       " 'including': 29540,\n",
       " 'marvelous': 35622,\n",
       " 'mexican': 36423,\n",
       " 'around': 3131,\n",
       " 'corner': 13429,\n",
       " 'cant': 8865,\n",
       " 'beat': 5258,\n",
       " 'magical': 34920,\n",
       " 'crashing': 13936,\n",
       " 'seeing': 51783,\n",
       " 'surroundings': 57723,\n",
       " 'hanging': 26419,\n",
       " 'families': 21299,\n",
       " 'size': 53550,\n",
       " 'boyfriend': 7172,\n",
       " 'fairmont': 21231,\n",
       " 'recent': 47389,\n",
       " 'trip': 61051,\n",
       " 'san': 50850,\n",
       " 'francisco': 23226,\n",
       " 'called': 8674,\n",
       " 'weeks': 64930,\n",
       " 'order': 41297,\n",
       " 'cake': 8615,\n",
       " 'boyfriends': 7177,\n",
       " 'birthday': 6308,\n",
       " 'immediately': 29264,\n",
       " 'connected': 12797,\n",
       " 'directly': 16469,\n",
       " 'pastry': 42750,\n",
       " 'chef': 10208,\n",
       " 'helped': 26995,\n",
       " 'design': 15807,\n",
       " 'ever': 20134,\n",
       " 'eaten': 18467,\n",
       " 'entire': 19570,\n",
       " 'life': 33349,\n",
       " 'large': 32685,\n",
       " 'luxurious': 34746,\n",
       " 'oldworld': 40791,\n",
       " 'feel': 21701,\n",
       " 'importantly': 29353,\n",
       " 'dont': 17271,\n",
       " 'miss': 37141,\n",
       " 'tonga': 60129,\n",
       " 'fun': 23894,\n",
       " 'definitely': 15362,\n",
       " 'scorpion': 51409,\n",
       " 'bowl': 7139,\n",
       " 'you’re': 66944,\n",
       " 'theyre': 59167,\n",
       " 'definately': 15333,\n",
       " 'standard': 55817,\n",
       " 'actually': 568,\n",
       " 'pretty': 45399,\n",
       " 'quailty': 46405,\n",
       " 'buffet': 7914,\n",
       " 'heart': 26818,\n",
       " 'walking': 64203,\n",
       " 'please': 44248,\n",
       " 'hyattthe': 28924,\n",
       " 'bad': 4327,\n",
       " 'white': 65470,\n",
       " 'ginger': 24704,\n",
       " 'line': 33529,\n",
       " 'shampooconditionersoap': 52457,\n",
       " 'smells': 54081,\n",
       " 'horrible': 27991,\n",
       " 'steps': 56306,\n",
       " 'square': 55465,\n",
       " 'short': 52861,\n",
       " 'visit': 63810,\n",
       " 'kids': 32024,\n",
       " 'valentines': 63188,\n",
       " 'rivercenter': 49618,\n",
       " 'mall': 35109,\n",
       " 'downtown': 17647,\n",
       " 'antonio': 2458,\n",
       " 'within': 65896,\n",
       " 'sa': 50605,\n",
       " 'attractions': 3709,\n",
       " 'alamo': 1418,\n",
       " 'riverwalk': 49637,\n",
       " 'ripleys': 49558,\n",
       " 'beginning': 5651,\n",
       " 'end': 19299,\n",
       " 'highly': 27369,\n",
       " 'reason': 47272,\n",
       " 'jolly': 31519,\n",
       " 'madison': 34882,\n",
       " 'xmas': 66575,\n",
       " 'period': 43307,\n",
       " 'main': 34975,\n",
       " 'feature': 21654,\n",
       " 'far': 21430,\n",
       " 'tourist': 60392,\n",
       " 'grand': 25307,\n",
       " 'central': 9629,\n",
       " 'gets': 24582,\n",
       " 'places': 44049,\n",
       " 'cheaper': 10057,\n",
       " 'yellow': 66704,\n",
       " 'cabs': 8530,\n",
       " 'although': 1793,\n",
       " 'give': 24761,\n",
       " 'cab': 8471,\n",
       " 'take': 58163,\n",
       " 'airport': 1311,\n",
       " 'upon': 62826,\n",
       " 'departure': 15694,\n",
       " 'limo': 33506,\n",
       " 'leave': 33013,\n",
       " 'new': 38880,\n",
       " 'york': 66813,\n",
       " 'inward': 30635,\n",
       " 'travel': 60801,\n",
       " 'transfer': 60703,\n",
       " 'outside': 41655,\n",
       " 'minutes': 36996,\n",
       " 'driving': 17947,\n",
       " 'terminals': 58737,\n",
       " 'collecting': 11755,\n",
       " 'fares': 21444,\n",
       " 'arriving': 3212,\n",
       " 'original': 41379,\n",
       " 'terminal': 58734,\n",
       " 'heading': 26761,\n",
       " 'top': 60223,\n",
       " 'meant': 35963,\n",
       " 'less': 33173,\n",
       " 'traffic': 60598,\n",
       " 'street': 56707,\n",
       " 'noise': 39460,\n",
       " 'problems': 45703,\n",
       " 'heater': 26854,\n",
       " 'reception': 47409,\n",
       " 'eventually': 20131,\n",
       " 'resolved': 48726,\n",
       " 'providing': 46074,\n",
       " 'portable': 44748,\n",
       " 'eat': 18460,\n",
       " 'diners': 16345,\n",
       " 'delis': 15517,\n",
       " 'close': 11286,\n",
       " 'meals': 35933,\n",
       " 'china': 10413,\n",
       " 'planet': 44091,\n",
       " 'holywood': 27747,\n",
       " 'planning': 44103,\n",
       " 'hollywood': 27730,\n",
       " 'negotiate': 38725,\n",
       " 'section': 51712,\n",
       " 'shown': 53013,\n",
       " 'table': 58070,\n",
       " 'otherwise': 41475,\n",
       " 'may': 35811,\n",
       " 'like': 33437,\n",
       " 'overlooking': 41867,\n",
       " 'action': 532,\n",
       " 'took': 60171,\n",
       " 'part': 42575,\n",
       " 'typical': 61681,\n",
       " 'activities': 551,\n",
       " 'csi': 14279,\n",
       " 'disappointed': 16554,\n",
       " 'unfortunately': 62228,\n",
       " 'hoped': 27929,\n",
       " 'see': 51762,\n",
       " 'broadway': 7643,\n",
       " 'play': 44168,\n",
       " 'late': 32763,\n",
       " 'tickts': 59617,\n",
       " 'ant': 2395,\n",
       " 'empire': 19194,\n",
       " 'state': 55996,\n",
       " 'bilding': 6233,\n",
       " 'suggest': 57206,\n",
       " 'going': 24974,\n",
       " 'early': 18335,\n",
       " 'queue': 46553,\n",
       " 'midday': 36568,\n",
       " 'least': 33001,\n",
       " 'hour': 28470,\n",
       " 'boat': 6716,\n",
       " 'trips': 61097,\n",
       " 'statue': 56067,\n",
       " 'liberty': 33299,\n",
       " 'brooklyn': 7698,\n",
       " 'bridge': 7541,\n",
       " 'book': 6851,\n",
       " 'memorial': 36172,\n",
       " 'emotional': 19169,\n",
       " 'gives': 24768,\n",
       " 'true': 61204,\n",
       " 'understanding': 62071,\n",
       " 'events': 20122,\n",
       " 'appreciation': 2795,\n",
       " 'spirit': 55206,\n",
       " 'yorkers': 66821,\n",
       " 'store': 56542,\n",
       " 'window': 65705,\n",
       " 'displays': 16851,\n",
       " 'trees': 60944,\n",
       " 'skating': 53591,\n",
       " 'rings': 49534,\n",
       " 'amazing': 1868,\n",
       " 'eve': 20073,\n",
       " 'definetely': 15344,\n",
       " 'highlight': 27360,\n",
       " 'hot': 28098,\n",
       " 'chocolate': 10497,\n",
       " 'marshmallows': 35592,\n",
       " 'whipped': 65435,\n",
       " 'cream': 13977,\n",
       " 'careful': 9030,\n",
       " 'padlock': 42128,\n",
       " 'lockers': 34052,\n",
       " 'soehow': 54426,\n",
       " 'managed': 35158,\n",
       " 'gain': 24121,\n",
       " 'access': 232,\n",
       " 'elses': 19002,\n",
       " 'stumbling': 56953,\n",
       " 'across': 520,\n",
       " 'whilst': 65419,\n",
       " 'taking': 58187,\n",
       " 'stroll': 56851,\n",
       " 'enlightening': 19436,\n",
       " 'literally': 33654,\n",
       " 'sudden': 57165,\n",
       " 'colour': 11816,\n",
       " 'sky': 53665,\n",
       " 'bright': 7567,\n",
       " 'many': 35333,\n",
       " 'illuminated': 29188,\n",
       " 'signs': 53264,\n",
       " 'real': 47199,\n",
       " 'buzz': 8404,\n",
       " 'time': 59703,\n",
       " 'hoards': 27637,\n",
       " 'people': 43136,\n",
       " 'use': 62968,\n",
       " 'bar': 4639,\n",
       " 'last': 32742,\n",
       " 'resembled': 48636,\n",
       " 'chapel': 9883,\n",
       " 'surprised': 57682,\n",
       " 'shops': 52834,\n",
       " 'remained': 48172,\n",
       " 'open': 41122,\n",
       " 'sleep': 53762,\n",
       " 'regret': 47958,\n",
       " 'longer': 34174,\n",
       " 'days': 14887,\n",
       " 'always': 1818,\n",
       " 'next': 38966,\n",
       " 'hawthorne': 26702,\n",
       " 'terrace': 58751,\n",
       " 'affordable': 939,\n",
       " 'chicago': 10287,\n",
       " 'pleasant': 44229,\n",
       " 'spacious': 54914,\n",
       " 'liked': 33439,\n",
       " 'neighborhood': 38751,\n",
       " 'tons': 60143,\n",
       " 'bars': 4827,\n",
       " 'restaurants': 48896,\n",
       " 'improv': 29407,\n",
       " 'wrigley': 66410,\n",
       " 'field': 21883,\n",
       " 'provides': 46071,\n",
       " 'continental': 13035,\n",
       " 'anne': 2310,\n",
       " 'sathers': 51000,\n",
       " 'offers': 40528,\n",
       " 'nicely': 39037,\n",
       " 'located': 33887,\n",
       " 'shuttle': 53097,\n",
       " 'leaves': 33021,\n",
       " 'twice': 61571,\n",
       " 'arent': 3023,\n",
       " 'springhill': 55391,\n",
       " 'suited': 57252,\n",
       " 'walls': 64297,\n",
       " 'thin': 59208,\n",
       " 'lot': 34314,\n",
       " 'adjacent': 689,\n",
       " 'elan': 18798,\n",
       " 'october': 40414,\n",
       " 'vegas': 63374,\n",
       " 'unassuming': 61867,\n",
       " 'appearance': 2681,\n",
       " 'scores': 51403,\n",
       " 'heavily': 26900,\n",
       " 'spotlessly': 55322,\n",
       " 'classically': 10958,\n",
       " 'designed': 15815,\n",
       " 'bedrooms': 5460,\n",
       " 'friendliness': 23547,\n",
       " 'management': 35163,\n",
       " 'jorge': 31540,\n",
       " 'colleagues': 11749,\n",
       " 'revelation': 49232,\n",
       " 'untiring': 62663,\n",
       " 'enthusiastic': 19559,\n",
       " 'help': 26990,\n",
       " 'recommending': 47547,\n",
       " 'letting': 33223,\n",
       " 'complimentary': 12342,\n",
       " 'postcheck': 44870,\n",
       " 'freshen': 23449,\n",
       " 'flight': 22455,\n",
       " 'home': 27752,\n",
       " 'long': 34163,\n",
       " 'enjoying': 19425,\n",
       " 'southern': 54829,\n",
       " 'cal': 8623,\n",
       " 'sunshine': 57423,\n",
       " 'priceline': 45465,\n",
       " 'sent': 52017,\n",
       " 'accepting': 226,\n",
       " 'bid': 6152,\n",
       " 'usd': 62962,\n",
       " 'tax': 58395,\n",
       " 'thanksgiving': 58888,\n",
       " 'family': 21307,\n",
       " 'year': 66662,\n",
       " 'boys': 7186,\n",
       " 'inquiry': 30121,\n",
       " 'surprise': 57678,\n",
       " 'macys': 34845,\n",
       " 'parade': 42373,\n",
       " 'comfort': 11897,\n",
       " 'wish': 65862,\n",
       " 'special': 55036,\n",
       " 'maybe': 35812,\n",
       " 'count': 13643,\n",
       " 'cheap': 10048,\n",
       " 'furnituresour': 24015,\n",
       " 'chair': 9754,\n",
       " 'simply': 53349,\n",
       " 'destroyedold': 15942,\n",
       " 'painting': 42176,\n",
       " 'wallyou': 64325,\n",
       " 'running': 50535,\n",
       " 'non': 39533,\n",
       " 'stop': 56511,\n",
       " 'starting': 55958,\n",
       " 'amthe': 2107,\n",
       " 'shakeand': 52416,\n",
       " 'think': 59249,\n",
       " 'happy': 26476,\n",
       " 'mins': 36963,\n",
       " 'fame': 21285,\n",
       " 'graumanns': 25407,\n",
       " 'chinese': 10424,\n",
       " 'theatre': 58954,\n",
       " 'tour': 60380,\n",
       " 'companies': 12144,\n",
       " 'pick': 43709,\n",
       " 'routes': 50347,\n",
       " 'usual': 63043,\n",
       " 'toast': 59943,\n",
       " 'cereal': 9671,\n",
       " 'pastries': 42739,\n",
       " 'cooked': 13274,\n",
       " 'centre': 9644,\n",
       " 'gym': 26025,\n",
       " 'givin': 24770,\n",
       " 'directions': 16453,\n",
       " 'minimart': 36891,\n",
       " 'subway': 57100,\n",
       " 'starbucks': 55889,\n",
       " 'road': 49670,\n",
       " 'convenient': 13145,\n",
       " 'shopping': 52797,\n",
       " 'gap': 24197,\n",
       " 'superdry': 57461,\n",
       " 'anyone': 2503,\n",
       " 'likes': 33459,\n",
       " 'pizzas': 43990,\n",
       " 'california': 8652,\n",
       " 'pizza': 43981,\n",
       " 'kitchen': 32163,\n",
       " 'lush': 34705,\n",
       " 'rasonably': 47004,\n",
       " 'shared': 52502,\n",
       " 'bus': 8197,\n",
       " 'cost': 13548,\n",
       " 'approx': 2828,\n",
       " 'ups': 62846,\n",
       " 'occur': 40378,\n",
       " 'warned': 64433,\n",
       " 'tho': 59331,\n",
       " 'slightly': 53861,\n",
       " 'frightening': 23649,\n",
       " 'plane': 44088,\n",
       " 'car': 8963,\n",
       " 'organised': 41340,\n",
       " 'tours': 60422,\n",
       " 'vip': 63774,\n",
       " 'starline': 55925,\n",
       " 'la': 32431,\n",
       " 'venice': 63435,\n",
       " 'beach': 5190,\n",
       " 'beverly': 6098,\n",
       " 'hills': 27455,\n",
       " 'lasted': 32743,\n",
       " 'money': 37492,\n",
       " 'escorted': 19823,\n",
       " 'universal': 62362,\n",
       " 'madame': 34854,\n",
       " 'tussauds': 61464,\n",
       " 'statues': 56068,\n",
       " 'holiday': 27703,\n",
       " 'inn': 30014,\n",
       " 'extras': 20975,\n",
       " 'thrown': 59518,\n",
       " 'fell': 21748,\n",
       " 'expectations': 20636,\n",
       " 'respectable': 48765,\n",
       " 'establishment': 19891,\n",
       " 'hilton': 27471,\n",
       " 'nickelanddiming': 39099,\n",
       " 'corridor': 13503,\n",
       " 'smelled': 54071,\n",
       " 'weird': 64966,\n",
       " 'worse': 66263,\n",
       " 'wouldnt': 66314,\n",
       " 'barefoot': 4692,\n",
       " 'anywhere': 2552,\n",
       " 'dirty': 16496,\n",
       " 'maker': 35047,\n",
       " 'broken': 7671,\n",
       " 'cup': 14354,\n",
       " 'want': 64363,\n",
       " 'full': 23840,\n",
       " 'cold': 11692,\n",
       " 'luck': 34576,\n",
       " 'making': 35081,\n",
       " 'tea': 58457,\n",
       " 'used': 62974,\n",
       " 'provided': 46066,\n",
       " 'packs': 42106,\n",
       " 'bother': 7018,\n",
       " 'replace': 48450,\n",
       " 'saved': 51107,\n",
       " 'cent': 9576,\n",
       " 'theres': 59109,\n",
       " 'center': 9583,\n",
       " 'printing': 45587,\n",
       " 'various': 63321,\n",
       " 'wasnt': 64539,\n",
       " 'dollaraminute': 17185,\n",
       " 'simple': 53338,\n",
       " 'page': 42137,\n",
       " 'class': 10951,\n",
       " 'visited': 63813,\n",
       " 'decided': 15124,\n",
       " 'save': 51106,\n",
       " 'yet': 66745,\n",
       " 'provide': 46065,\n",
       " 'sort': 54736,\n",
       " 'paper': 42348,\n",
       " 'guests': 25887,\n",
       " 'write': 66425,\n",
       " 'postit': 44886,\n",
       " 'notes': 39894,\n",
       " 'squares': 55518,\n",
       " 'thats': 58916,\n",
       " 'something': 54601,\n",
       " 'words': 66122,\n",
       " 'office': 40541,\n",
       " 'depot': 15730,\n",
       " 'buy': 8398,\n",
       " 'pricing': 45531,\n",
       " 'outrageous': 41634,\n",
       " 'ive': 31064,\n",
       " 'parked': 42450,\n",
       " 'sanfrancisco': 50903,\n",
       " 'discounts': 16653,\n",
       " 'expect': 20630,\n",
       " 'mean': 35945,\n",
       " 'easy': 18435,\n",
       " 'crammed': 13892,\n",
       " 'spending': 55138,\n",
       " 'random': 46938,\n",
       " 'somebody': 54573,\n",
       " 'notice': 39922,\n",
       " 'trying': 61266,\n",
       " 'fit': 22236,\n",
       " 'nobody': 39417,\n",
       " 'dared': 14721,\n",
       " 'routine': 50349,\n",
       " 'bunch': 8082,\n",
       " 'spaces': 54895,\n",
       " 'empty': 19237,\n",
       " 'general': 24423,\n",
       " 'public': 46158,\n",
       " 'allowed': 1660,\n",
       " 'charge': 9925,\n",
       " 'valet': 63191,\n",
       " 'addition': 623,\n",
       " 'paid': 42147,\n",
       " 'system': 58042,\n",
       " 'properly': 45935,\n",
       " 'summarily': 57316,\n",
       " 'personnel': 43435,\n",
       " 'welcoming': 64988,\n",
       " 'understand': 62065,\n",
       " 'economy': 18566,\n",
       " 'tough': 60371,\n",
       " 'everybody': 20163,\n",
       " 'saving': 51116,\n",
       " 'couple': 13681,\n",
       " 'sheets': 52578,\n",
       " 'bags': 4408,\n",
       " 'brandname': 7243,\n",
       " 'dozen': 17718,\n",
       " 'hope': 27928,\n",
       " 'savings': 51117,\n",
       " 'properties': 45939,\n",
       " 'efficient': 18666,\n",
       " 'considered': 12875,\n",
       " 'brand': 7238,\n",
       " 'property': 45942,\n",
       " 'let': 33209,\n",
       " 'initially': 29969,\n",
       " 'smoothly': 54172,\n",
       " 'checkin': 10106,\n",
       " 'hhonors': 27279,\n",
       " 'gold': 24982,\n",
       " 'member': 36143,\n",
       " 'informed': 29898,\n",
       " 'executive': 20506,\n",
       " 'upgrade': 62777,\n",
       " 'put': 46336,\n",
       " 'bedroom': 5449,\n",
       " 'suite': 57247,\n",
       " 'offered': 40514,\n",
       " 'wifi': 65593,\n",
       " 'vouchers': 63961,\n",
       " 'ended': 19311,\n",
       " 'issues': 30831,\n",
       " 'living': 33722,\n",
       " 'fix': 22283,\n",
       " 'started': 55953,\n",
       " 'randomly': 46939,\n",
       " 'producing': 45752,\n",
       " 'pitched': 43954,\n",
       " 'beeps': 5583,\n",
       " 'woke': 65986,\n",
       " 'guest': 25867,\n",
       " 'compendium': 12201,\n",
       " 'pages': 42142,\n",
       " 'requesting': 48557,\n",
       " 'deliver': 15528,\n",
       " 'cause': 9430,\n",
       " 'contact': 12983,\n",
       " 'stages': 55729,\n",
       " 'useless': 62990,\n",
       " 'overstatement': 41957,\n",
       " 'basically': 4931,\n",
       " 'requests': 48562,\n",
       " 'treated': 60919,\n",
       " 'putting': 46346,\n",
       " 'disrupting': 16884,\n",
       " 'lazy': 32919,\n",
       " 'particular': 42602,\n",
       " 'wrote': 66457,\n",
       " 'separate': 52031,\n",
       " 'witnessed': 65921,\n",
       " 'lady': 32503,\n",
       " 'obvious': 40322,\n",
       " 'distress': 16968,\n",
       " 'attempting': 3626,\n",
       " 'able': 67,\n",
       " 'without': 65908,\n",
       " 'photo': 43658,\n",
       " 'became': 5332,\n",
       " 'upset': 62859,\n",
       " 'aggravated': 1116,\n",
       " 'ranted': 46967,\n",
       " 'murdered': 38186,\n",
       " 'tonight': 60136,\n",
       " 'itll': 30973,\n",
       " 'conscious': 12841,\n",
       " 'replied': 48473,\n",
       " 'maam': 34790,\n",
       " 'seen': 51803,\n",
       " 'rude': 50450,\n",
       " 'choice': 10511,\n",
       " 'uptown': 62883,\n",
       " 'charlotte': 9978,\n",
       " 'wellequipped': 65039,\n",
       " 'card': 8995,\n",
       " 'repairman': 48416,\n",
       " 'arrived': 3191,\n",
       " 'dismantle': 16796,\n",
       " 'reprogram': 48523,\n",
       " 'lock': 34043,\n",
       " 'rare': 46987,\n",
       " 'issue': 30815,\n",
       " 'online': 41012,\n",
       " 'follow': 22788,\n",
       " 'instructions': 30241,\n",
       " 'boarding': 6702,\n",
       " 'passes': 42700,\n",
       " 'printer': 45582,\n",
       " 'send': 51979,\n",
       " 'document': 17109,\n",
       " 'printed': 45581,\n",
       " 'easier': 18401,\n",
       " 'computer': 12409,\n",
       " 'print': 45579,\n",
       " 'wanted': 64365,\n",
       " 'boutique': 7111,\n",
       " 'lieu': 33347,\n",
       " 'marriott': 35553,\n",
       " 'type': 61668,\n",
       " 'research': 48624,\n",
       " 'hubby': 28707,\n",
       " ...}"
      ]
     },
     "execution_count": 23,
     "metadata": {},
     "output_type": "execute_result"
    }
   ],
   "source": [
    "bow_transformer.vocabulary_"
   ]
  },
  {
   "cell_type": "code",
   "execution_count": 24,
   "id": "4e8c3285",
   "metadata": {},
   "outputs": [
    {
     "data": {
      "text/plain": [
       "67652"
      ]
     },
     "execution_count": 24,
     "metadata": {},
     "output_type": "execute_result"
    }
   ],
   "source": [
    "len(bow_transformer.vocabulary_)\n"
   ]
  },
  {
   "cell_type": "code",
   "execution_count": 25,
   "id": "3cb2a890",
   "metadata": {},
   "outputs": [],
   "source": [
    "tdm=bow_transformer.transform(rw['x'])"
   ]
  },
  {
   "cell_type": "code",
   "execution_count": 26,
   "id": "9a9c815e",
   "metadata": {
    "scrolled": true
   },
   "outputs": [
    {
     "data": {
      "text/plain": [
       "(38932, 67652)"
      ]
     },
     "execution_count": 26,
     "metadata": {},
     "output_type": "execute_result"
    }
   ],
   "source": [
    "tdm.shape"
   ]
  },
  {
   "cell_type": "code",
   "execution_count": 27,
   "id": "d44e5a1a",
   "metadata": {},
   "outputs": [
    {
     "data": {
      "text/plain": [
       "scipy.sparse._csr.csr_matrix"
      ]
     },
     "execution_count": 27,
     "metadata": {},
     "output_type": "execute_result"
    }
   ],
   "source": [
    "type(tdm)"
   ]
  },
  {
   "cell_type": "markdown",
   "id": "0d20554c",
   "metadata": {},
   "source": [
    "\n",
    "## <p style=\"background-color:#B61151; font-family:newtimeroman; color:#FFF9ED; font-size:150%; text-align:center; border-radius:10px 10px;\"> Pre-Processing Data  <p>\n",
    "\n",
    "<a href=\"#toc\" class=\"btn btn-primary btn-sm\" role=\"button\" aria-pressed=\"true\" \n",
    "style=\"color:black; background-color:#dfa8e4; font-size: 16px; border-width: 2px; font-weight: bold;\" data-toggle=\"popover\">\n",
    "    <span style=\"font-size: 20px;\">Spliting Data into Train and Test</span>\n",
    "</a>\n"
   ]
  },
  {
   "cell_type": "code",
   "execution_count": null,
   "id": "83baa7c5",
   "metadata": {},
   "outputs": [],
   "source": []
  },
  {
   "cell_type": "code",
   "execution_count": 28,
   "id": "daf36ecc",
   "metadata": {},
   "outputs": [
    {
     "data": {
      "text/plain": [
       "(31145,)"
      ]
     },
     "execution_count": 28,
     "metadata": {},
     "output_type": "execute_result"
    }
   ],
   "source": [
    "# tdm is like our x variable \n",
    "from sklearn.model_selection import train_test_split\n",
    "tdm_train,tdm_test,train_y,test_y=train_test_split(tdm,rw['y'],test_size=.2)\n",
    "\n",
    "train_y.shape"
   ]
  },
  {
   "cell_type": "code",
   "execution_count": 29,
   "id": "662453b8",
   "metadata": {},
   "outputs": [
    {
     "data": {
      "text/plain": [
       "(31145, 67652)"
      ]
     },
     "execution_count": 29,
     "metadata": {},
     "output_type": "execute_result"
    }
   ],
   "source": [
    "tdm_train.shape\n"
   ]
  },
  {
   "cell_type": "markdown",
   "id": "960ecba2",
   "metadata": {},
   "source": [
    "\n",
    "## <p style=\"background-color:#B61151; font-family:newtimeroman; color:#FFF9ED; font-size:150%; text-align:center; border-radius:10px 10px;\"> Naive Bayes  <p>\n",
    "    \n",
    "### In a project, you could describe Naive Bayes as \"a simple probabilistic classifier based on Bayes' theorem with the assumption of independence between features.\""
   ]
  },
  {
   "cell_type": "code",
   "execution_count": 30,
   "id": "4d22f4db",
   "metadata": {
    "scrolled": true
   },
   "outputs": [
    {
     "data": {
      "text/html": [
       "<style>#sk-container-id-1 {color: black;}#sk-container-id-1 pre{padding: 0;}#sk-container-id-1 div.sk-toggleable {background-color: white;}#sk-container-id-1 label.sk-toggleable__label {cursor: pointer;display: block;width: 100%;margin-bottom: 0;padding: 0.3em;box-sizing: border-box;text-align: center;}#sk-container-id-1 label.sk-toggleable__label-arrow:before {content: \"▸\";float: left;margin-right: 0.25em;color: #696969;}#sk-container-id-1 label.sk-toggleable__label-arrow:hover:before {color: black;}#sk-container-id-1 div.sk-estimator:hover label.sk-toggleable__label-arrow:before {color: black;}#sk-container-id-1 div.sk-toggleable__content {max-height: 0;max-width: 0;overflow: hidden;text-align: left;background-color: #f0f8ff;}#sk-container-id-1 div.sk-toggleable__content pre {margin: 0.2em;color: black;border-radius: 0.25em;background-color: #f0f8ff;}#sk-container-id-1 input.sk-toggleable__control:checked~div.sk-toggleable__content {max-height: 200px;max-width: 100%;overflow: auto;}#sk-container-id-1 input.sk-toggleable__control:checked~label.sk-toggleable__label-arrow:before {content: \"▾\";}#sk-container-id-1 div.sk-estimator input.sk-toggleable__control:checked~label.sk-toggleable__label {background-color: #d4ebff;}#sk-container-id-1 div.sk-label input.sk-toggleable__control:checked~label.sk-toggleable__label {background-color: #d4ebff;}#sk-container-id-1 input.sk-hidden--visually {border: 0;clip: rect(1px 1px 1px 1px);clip: rect(1px, 1px, 1px, 1px);height: 1px;margin: -1px;overflow: hidden;padding: 0;position: absolute;width: 1px;}#sk-container-id-1 div.sk-estimator {font-family: monospace;background-color: #f0f8ff;border: 1px dotted black;border-radius: 0.25em;box-sizing: border-box;margin-bottom: 0.5em;}#sk-container-id-1 div.sk-estimator:hover {background-color: #d4ebff;}#sk-container-id-1 div.sk-parallel-item::after {content: \"\";width: 100%;border-bottom: 1px solid gray;flex-grow: 1;}#sk-container-id-1 div.sk-label:hover label.sk-toggleable__label {background-color: #d4ebff;}#sk-container-id-1 div.sk-serial::before {content: \"\";position: absolute;border-left: 1px solid gray;box-sizing: border-box;top: 0;bottom: 0;left: 50%;z-index: 0;}#sk-container-id-1 div.sk-serial {display: flex;flex-direction: column;align-items: center;background-color: white;padding-right: 0.2em;padding-left: 0.2em;position: relative;}#sk-container-id-1 div.sk-item {position: relative;z-index: 1;}#sk-container-id-1 div.sk-parallel {display: flex;align-items: stretch;justify-content: center;background-color: white;position: relative;}#sk-container-id-1 div.sk-item::before, #sk-container-id-1 div.sk-parallel-item::before {content: \"\";position: absolute;border-left: 1px solid gray;box-sizing: border-box;top: 0;bottom: 0;left: 50%;z-index: -1;}#sk-container-id-1 div.sk-parallel-item {display: flex;flex-direction: column;z-index: 1;position: relative;background-color: white;}#sk-container-id-1 div.sk-parallel-item:first-child::after {align-self: flex-end;width: 50%;}#sk-container-id-1 div.sk-parallel-item:last-child::after {align-self: flex-start;width: 50%;}#sk-container-id-1 div.sk-parallel-item:only-child::after {width: 0;}#sk-container-id-1 div.sk-dashed-wrapped {border: 1px dashed gray;margin: 0 0.4em 0.5em 0.4em;box-sizing: border-box;padding-bottom: 0.4em;background-color: white;}#sk-container-id-1 div.sk-label label {font-family: monospace;font-weight: bold;display: inline-block;line-height: 1.2em;}#sk-container-id-1 div.sk-label-container {text-align: center;}#sk-container-id-1 div.sk-container {/* jupyter's `normalize.less` sets `[hidden] { display: none; }` but bootstrap.min.css set `[hidden] { display: none !important; }` so we also need the `!important` here to be able to override the default hidden behavior on the sphinx rendered scikit-learn.org. See: https://github.com/scikit-learn/scikit-learn/issues/21755 */display: inline-block !important;position: relative;}#sk-container-id-1 div.sk-text-repr-fallback {display: none;}</style><div id=\"sk-container-id-1\" class=\"sk-top-container\"><div class=\"sk-text-repr-fallback\"><pre>MultinomialNB()</pre><b>In a Jupyter environment, please rerun this cell to show the HTML representation or trust the notebook. <br />On GitHub, the HTML representation is unable to render, please try loading this page with nbviewer.org.</b></div><div class=\"sk-container\" hidden><div class=\"sk-item\"><div class=\"sk-estimator sk-toggleable\"><input class=\"sk-toggleable__control sk-hidden--visually\" id=\"sk-estimator-id-1\" type=\"checkbox\" checked><label for=\"sk-estimator-id-1\" class=\"sk-toggleable__label sk-toggleable__label-arrow\">MultinomialNB</label><div class=\"sk-toggleable__content\"><pre>MultinomialNB()</pre></div></div></div></div></div>"
      ],
      "text/plain": [
       "MultinomialNB()"
      ]
     },
     "execution_count": 30,
     "metadata": {},
     "output_type": "execute_result"
    }
   ],
   "source": [
    "from sklearn.naive_bayes import MultinomialNB\n",
    "\n",
    "nb=MultinomialNB()\n",
    "nb.fit(tdm_train,train_y)"
   ]
  },
  {
   "cell_type": "code",
   "execution_count": 31,
   "id": "19e9c9eb",
   "metadata": {},
   "outputs": [],
   "source": [
    "pred_nb=nb.predict(tdm_test)"
   ]
  },
  {
   "cell_type": "code",
   "execution_count": 32,
   "id": "b607153e",
   "metadata": {},
   "outputs": [],
   "source": [
    "from sklearn.metrics import confusion_matrix,accuracy_score"
   ]
  },
  {
   "cell_type": "code",
   "execution_count": 33,
   "id": "46a578c5",
   "metadata": {},
   "outputs": [
    {
     "data": {
      "text/plain": [
       "array([[4864,  421],\n",
       "       [ 644, 1858]], dtype=int64)"
      ]
     },
     "execution_count": 33,
     "metadata": {},
     "output_type": "execute_result"
    }
   ],
   "source": [
    "tab_nb=confusion_matrix(test_y,pred_nb)\n",
    "tab_nb"
   ]
  },
  {
   "cell_type": "code",
   "execution_count": 34,
   "id": "c3687fff",
   "metadata": {},
   "outputs": [
    {
     "data": {
      "text/plain": [
       "0.8632335944522923"
      ]
     },
     "execution_count": 34,
     "metadata": {},
     "output_type": "execute_result"
    }
   ],
   "source": [
    "accuracy_score(test_y,pred_nb)"
   ]
  },
  {
   "cell_type": "code",
   "execution_count": 35,
   "id": "4cf0e999",
   "metadata": {},
   "outputs": [
    {
     "name": "stdout",
     "output_type": "stream",
     "text": [
      "              precision    recall  f1-score   support\n",
      "\n",
      "           0       0.88      0.92      0.90      5285\n",
      "           1       0.82      0.74      0.78      2502\n",
      "\n",
      "    accuracy                           0.86      7787\n",
      "   macro avg       0.85      0.83      0.84      7787\n",
      "weighted avg       0.86      0.86      0.86      7787\n",
      "\n"
     ]
    }
   ],
   "source": [
    "print(classification_report(test_y,pred_nb))"
   ]
  },
  {
   "cell_type": "code",
   "execution_count": null,
   "id": "9afeb192",
   "metadata": {},
   "outputs": [],
   "source": []
  },
  {
   "cell_type": "markdown",
   "id": "222166c6",
   "metadata": {},
   "source": [
    "\n",
    "## <p style=\"background-color:#B61151; font-family:newtimeroman; color:#FFF9ED; font-size:150%; text-align:center; border-radius:10px 10px;\"> LogisticRegression  <p>\n",
    "    \n",
    "### Logistic Regression is a statistical method used for binary classification by modeling the probability of a binary outcome based on input features.\""
   ]
  },
  {
   "cell_type": "code",
   "execution_count": null,
   "id": "aa065b70",
   "metadata": {},
   "outputs": [],
   "source": []
  },
  {
   "cell_type": "code",
   "execution_count": 36,
   "id": "6466bc89",
   "metadata": {},
   "outputs": [],
   "source": [
    "from sklearn.linear_model import LogisticRegression\n",
    "logreg=LogisticRegression()"
   ]
  },
  {
   "cell_type": "code",
   "execution_count": 37,
   "id": "844b13e9",
   "metadata": {},
   "outputs": [
    {
     "name": "stderr",
     "output_type": "stream",
     "text": [
      "C:\\Users\\Vijay\\anaconda3\\Lib\\site-packages\\sklearn\\linear_model\\_logistic.py:460: ConvergenceWarning: lbfgs failed to converge (status=1):\n",
      "STOP: TOTAL NO. of ITERATIONS REACHED LIMIT.\n",
      "\n",
      "Increase the number of iterations (max_iter) or scale the data as shown in:\n",
      "    https://scikit-learn.org/stable/modules/preprocessing.html\n",
      "Please also refer to the documentation for alternative solver options:\n",
      "    https://scikit-learn.org/stable/modules/linear_model.html#logistic-regression\n",
      "  n_iter_i = _check_optimize_result(\n"
     ]
    },
    {
     "data": {
      "text/html": [
       "<style>#sk-container-id-2 {color: black;}#sk-container-id-2 pre{padding: 0;}#sk-container-id-2 div.sk-toggleable {background-color: white;}#sk-container-id-2 label.sk-toggleable__label {cursor: pointer;display: block;width: 100%;margin-bottom: 0;padding: 0.3em;box-sizing: border-box;text-align: center;}#sk-container-id-2 label.sk-toggleable__label-arrow:before {content: \"▸\";float: left;margin-right: 0.25em;color: #696969;}#sk-container-id-2 label.sk-toggleable__label-arrow:hover:before {color: black;}#sk-container-id-2 div.sk-estimator:hover label.sk-toggleable__label-arrow:before {color: black;}#sk-container-id-2 div.sk-toggleable__content {max-height: 0;max-width: 0;overflow: hidden;text-align: left;background-color: #f0f8ff;}#sk-container-id-2 div.sk-toggleable__content pre {margin: 0.2em;color: black;border-radius: 0.25em;background-color: #f0f8ff;}#sk-container-id-2 input.sk-toggleable__control:checked~div.sk-toggleable__content {max-height: 200px;max-width: 100%;overflow: auto;}#sk-container-id-2 input.sk-toggleable__control:checked~label.sk-toggleable__label-arrow:before {content: \"▾\";}#sk-container-id-2 div.sk-estimator input.sk-toggleable__control:checked~label.sk-toggleable__label {background-color: #d4ebff;}#sk-container-id-2 div.sk-label input.sk-toggleable__control:checked~label.sk-toggleable__label {background-color: #d4ebff;}#sk-container-id-2 input.sk-hidden--visually {border: 0;clip: rect(1px 1px 1px 1px);clip: rect(1px, 1px, 1px, 1px);height: 1px;margin: -1px;overflow: hidden;padding: 0;position: absolute;width: 1px;}#sk-container-id-2 div.sk-estimator {font-family: monospace;background-color: #f0f8ff;border: 1px dotted black;border-radius: 0.25em;box-sizing: border-box;margin-bottom: 0.5em;}#sk-container-id-2 div.sk-estimator:hover {background-color: #d4ebff;}#sk-container-id-2 div.sk-parallel-item::after {content: \"\";width: 100%;border-bottom: 1px solid gray;flex-grow: 1;}#sk-container-id-2 div.sk-label:hover label.sk-toggleable__label {background-color: #d4ebff;}#sk-container-id-2 div.sk-serial::before {content: \"\";position: absolute;border-left: 1px solid gray;box-sizing: border-box;top: 0;bottom: 0;left: 50%;z-index: 0;}#sk-container-id-2 div.sk-serial {display: flex;flex-direction: column;align-items: center;background-color: white;padding-right: 0.2em;padding-left: 0.2em;position: relative;}#sk-container-id-2 div.sk-item {position: relative;z-index: 1;}#sk-container-id-2 div.sk-parallel {display: flex;align-items: stretch;justify-content: center;background-color: white;position: relative;}#sk-container-id-2 div.sk-item::before, #sk-container-id-2 div.sk-parallel-item::before {content: \"\";position: absolute;border-left: 1px solid gray;box-sizing: border-box;top: 0;bottom: 0;left: 50%;z-index: -1;}#sk-container-id-2 div.sk-parallel-item {display: flex;flex-direction: column;z-index: 1;position: relative;background-color: white;}#sk-container-id-2 div.sk-parallel-item:first-child::after {align-self: flex-end;width: 50%;}#sk-container-id-2 div.sk-parallel-item:last-child::after {align-self: flex-start;width: 50%;}#sk-container-id-2 div.sk-parallel-item:only-child::after {width: 0;}#sk-container-id-2 div.sk-dashed-wrapped {border: 1px dashed gray;margin: 0 0.4em 0.5em 0.4em;box-sizing: border-box;padding-bottom: 0.4em;background-color: white;}#sk-container-id-2 div.sk-label label {font-family: monospace;font-weight: bold;display: inline-block;line-height: 1.2em;}#sk-container-id-2 div.sk-label-container {text-align: center;}#sk-container-id-2 div.sk-container {/* jupyter's `normalize.less` sets `[hidden] { display: none; }` but bootstrap.min.css set `[hidden] { display: none !important; }` so we also need the `!important` here to be able to override the default hidden behavior on the sphinx rendered scikit-learn.org. See: https://github.com/scikit-learn/scikit-learn/issues/21755 */display: inline-block !important;position: relative;}#sk-container-id-2 div.sk-text-repr-fallback {display: none;}</style><div id=\"sk-container-id-2\" class=\"sk-top-container\"><div class=\"sk-text-repr-fallback\"><pre>LogisticRegression()</pre><b>In a Jupyter environment, please rerun this cell to show the HTML representation or trust the notebook. <br />On GitHub, the HTML representation is unable to render, please try loading this page with nbviewer.org.</b></div><div class=\"sk-container\" hidden><div class=\"sk-item\"><div class=\"sk-estimator sk-toggleable\"><input class=\"sk-toggleable__control sk-hidden--visually\" id=\"sk-estimator-id-2\" type=\"checkbox\" checked><label for=\"sk-estimator-id-2\" class=\"sk-toggleable__label sk-toggleable__label-arrow\">LogisticRegression</label><div class=\"sk-toggleable__content\"><pre>LogisticRegression()</pre></div></div></div></div></div>"
      ],
      "text/plain": [
       "LogisticRegression()"
      ]
     },
     "execution_count": 37,
     "metadata": {},
     "output_type": "execute_result"
    }
   ],
   "source": [
    "logreg.fit(tdm_train,train_y)"
   ]
  },
  {
   "cell_type": "code",
   "execution_count": 38,
   "id": "e010a59a",
   "metadata": {},
   "outputs": [],
   "source": [
    "pred_log=logreg.predict(tdm_test)"
   ]
  },
  {
   "cell_type": "code",
   "execution_count": 39,
   "id": "f8b66ff1",
   "metadata": {},
   "outputs": [
    {
     "data": {
      "text/plain": [
       "array([[4837,  448],\n",
       "       [ 629, 1873]], dtype=int64)"
      ]
     },
     "execution_count": 39,
     "metadata": {},
     "output_type": "execute_result"
    }
   ],
   "source": [
    "tab_log=confusion_matrix(test_y,pred_log)\n",
    "tab_log"
   ]
  },
  {
   "cell_type": "code",
   "execution_count": 40,
   "id": "0a8cc80b",
   "metadata": {},
   "outputs": [
    {
     "data": {
      "text/plain": [
       "0.8616925645306279"
      ]
     },
     "execution_count": 40,
     "metadata": {},
     "output_type": "execute_result"
    }
   ],
   "source": [
    "accuracy_score(test_y,pred_log)"
   ]
  },
  {
   "cell_type": "code",
   "execution_count": 41,
   "id": "b16a9792",
   "metadata": {},
   "outputs": [
    {
     "name": "stdout",
     "output_type": "stream",
     "text": [
      "              precision    recall  f1-score   support\n",
      "\n",
      "           0       0.88      0.92      0.90      5285\n",
      "           1       0.81      0.75      0.78      2502\n",
      "\n",
      "    accuracy                           0.86      7787\n",
      "   macro avg       0.85      0.83      0.84      7787\n",
      "weighted avg       0.86      0.86      0.86      7787\n",
      "\n"
     ]
    }
   ],
   "source": [
    "print(classification_report(test_y,pred_log))"
   ]
  },
  {
   "cell_type": "code",
   "execution_count": null,
   "id": "423e2c19",
   "metadata": {},
   "outputs": [],
   "source": []
  },
  {
   "cell_type": "markdown",
   "id": "dc9cfaec",
   "metadata": {},
   "source": [
    "\n",
    "## <p style=\"background-color:#B61151; font-family:newtimeroman; color:#FFF9ED; font-size:150%; text-align:center; border-radius:10px 10px;\"> DecisionTreeClassifier  <p>\n",
    "    \n",
    "### The DecisionTreeClassifier is a machine learning algorithm used for classification tasks, where it builds a decision tree model to predict the class label of a new instance based on its features.\""
   ]
  },
  {
   "cell_type": "code",
   "execution_count": 42,
   "id": "ea7c4500",
   "metadata": {},
   "outputs": [],
   "source": [
    "from sklearn.tree import DecisionTreeClassifier\n",
    "dec=DecisionTreeClassifier()"
   ]
  },
  {
   "cell_type": "code",
   "execution_count": 43,
   "id": "52a75ab7",
   "metadata": {},
   "outputs": [
    {
     "data": {
      "text/html": [
       "<style>#sk-container-id-3 {color: black;}#sk-container-id-3 pre{padding: 0;}#sk-container-id-3 div.sk-toggleable {background-color: white;}#sk-container-id-3 label.sk-toggleable__label {cursor: pointer;display: block;width: 100%;margin-bottom: 0;padding: 0.3em;box-sizing: border-box;text-align: center;}#sk-container-id-3 label.sk-toggleable__label-arrow:before {content: \"▸\";float: left;margin-right: 0.25em;color: #696969;}#sk-container-id-3 label.sk-toggleable__label-arrow:hover:before {color: black;}#sk-container-id-3 div.sk-estimator:hover label.sk-toggleable__label-arrow:before {color: black;}#sk-container-id-3 div.sk-toggleable__content {max-height: 0;max-width: 0;overflow: hidden;text-align: left;background-color: #f0f8ff;}#sk-container-id-3 div.sk-toggleable__content pre {margin: 0.2em;color: black;border-radius: 0.25em;background-color: #f0f8ff;}#sk-container-id-3 input.sk-toggleable__control:checked~div.sk-toggleable__content {max-height: 200px;max-width: 100%;overflow: auto;}#sk-container-id-3 input.sk-toggleable__control:checked~label.sk-toggleable__label-arrow:before {content: \"▾\";}#sk-container-id-3 div.sk-estimator input.sk-toggleable__control:checked~label.sk-toggleable__label {background-color: #d4ebff;}#sk-container-id-3 div.sk-label input.sk-toggleable__control:checked~label.sk-toggleable__label {background-color: #d4ebff;}#sk-container-id-3 input.sk-hidden--visually {border: 0;clip: rect(1px 1px 1px 1px);clip: rect(1px, 1px, 1px, 1px);height: 1px;margin: -1px;overflow: hidden;padding: 0;position: absolute;width: 1px;}#sk-container-id-3 div.sk-estimator {font-family: monospace;background-color: #f0f8ff;border: 1px dotted black;border-radius: 0.25em;box-sizing: border-box;margin-bottom: 0.5em;}#sk-container-id-3 div.sk-estimator:hover {background-color: #d4ebff;}#sk-container-id-3 div.sk-parallel-item::after {content: \"\";width: 100%;border-bottom: 1px solid gray;flex-grow: 1;}#sk-container-id-3 div.sk-label:hover label.sk-toggleable__label {background-color: #d4ebff;}#sk-container-id-3 div.sk-serial::before {content: \"\";position: absolute;border-left: 1px solid gray;box-sizing: border-box;top: 0;bottom: 0;left: 50%;z-index: 0;}#sk-container-id-3 div.sk-serial {display: flex;flex-direction: column;align-items: center;background-color: white;padding-right: 0.2em;padding-left: 0.2em;position: relative;}#sk-container-id-3 div.sk-item {position: relative;z-index: 1;}#sk-container-id-3 div.sk-parallel {display: flex;align-items: stretch;justify-content: center;background-color: white;position: relative;}#sk-container-id-3 div.sk-item::before, #sk-container-id-3 div.sk-parallel-item::before {content: \"\";position: absolute;border-left: 1px solid gray;box-sizing: border-box;top: 0;bottom: 0;left: 50%;z-index: -1;}#sk-container-id-3 div.sk-parallel-item {display: flex;flex-direction: column;z-index: 1;position: relative;background-color: white;}#sk-container-id-3 div.sk-parallel-item:first-child::after {align-self: flex-end;width: 50%;}#sk-container-id-3 div.sk-parallel-item:last-child::after {align-self: flex-start;width: 50%;}#sk-container-id-3 div.sk-parallel-item:only-child::after {width: 0;}#sk-container-id-3 div.sk-dashed-wrapped {border: 1px dashed gray;margin: 0 0.4em 0.5em 0.4em;box-sizing: border-box;padding-bottom: 0.4em;background-color: white;}#sk-container-id-3 div.sk-label label {font-family: monospace;font-weight: bold;display: inline-block;line-height: 1.2em;}#sk-container-id-3 div.sk-label-container {text-align: center;}#sk-container-id-3 div.sk-container {/* jupyter's `normalize.less` sets `[hidden] { display: none; }` but bootstrap.min.css set `[hidden] { display: none !important; }` so we also need the `!important` here to be able to override the default hidden behavior on the sphinx rendered scikit-learn.org. See: https://github.com/scikit-learn/scikit-learn/issues/21755 */display: inline-block !important;position: relative;}#sk-container-id-3 div.sk-text-repr-fallback {display: none;}</style><div id=\"sk-container-id-3\" class=\"sk-top-container\"><div class=\"sk-text-repr-fallback\"><pre>DecisionTreeClassifier()</pre><b>In a Jupyter environment, please rerun this cell to show the HTML representation or trust the notebook. <br />On GitHub, the HTML representation is unable to render, please try loading this page with nbviewer.org.</b></div><div class=\"sk-container\" hidden><div class=\"sk-item\"><div class=\"sk-estimator sk-toggleable\"><input class=\"sk-toggleable__control sk-hidden--visually\" id=\"sk-estimator-id-3\" type=\"checkbox\" checked><label for=\"sk-estimator-id-3\" class=\"sk-toggleable__label sk-toggleable__label-arrow\">DecisionTreeClassifier</label><div class=\"sk-toggleable__content\"><pre>DecisionTreeClassifier()</pre></div></div></div></div></div>"
      ],
      "text/plain": [
       "DecisionTreeClassifier()"
      ]
     },
     "execution_count": 43,
     "metadata": {},
     "output_type": "execute_result"
    }
   ],
   "source": [
    "dec.fit(tdm_train,train_y)"
   ]
  },
  {
   "cell_type": "code",
   "execution_count": 44,
   "id": "6602e1cb",
   "metadata": {},
   "outputs": [],
   "source": [
    "pred_dec=dec.predict(tdm_test)"
   ]
  },
  {
   "cell_type": "code",
   "execution_count": 45,
   "id": "25c95e65",
   "metadata": {},
   "outputs": [
    {
     "data": {
      "text/plain": [
       "array([[4395,  890],\n",
       "       [1002, 1500]], dtype=int64)"
      ]
     },
     "execution_count": 45,
     "metadata": {},
     "output_type": "execute_result"
    }
   ],
   "source": [
    "tab_dec=confusion_matrix(test_y,pred_dec)\n",
    "tab_dec"
   ]
  },
  {
   "cell_type": "code",
   "execution_count": 46,
   "id": "266c7716",
   "metadata": {},
   "outputs": [
    {
     "data": {
      "text/plain": [
       "0.7570309490175934"
      ]
     },
     "execution_count": 46,
     "metadata": {},
     "output_type": "execute_result"
    }
   ],
   "source": [
    "accuracy_score(test_y,pred_dec)"
   ]
  },
  {
   "cell_type": "code",
   "execution_count": 47,
   "id": "89ce9875",
   "metadata": {},
   "outputs": [
    {
     "name": "stdout",
     "output_type": "stream",
     "text": [
      "              precision    recall  f1-score   support\n",
      "\n",
      "           0       0.81      0.83      0.82      5285\n",
      "           1       0.63      0.60      0.61      2502\n",
      "\n",
      "    accuracy                           0.76      7787\n",
      "   macro avg       0.72      0.72      0.72      7787\n",
      "weighted avg       0.75      0.76      0.76      7787\n",
      "\n"
     ]
    }
   ],
   "source": [
    "print(classification_report(test_y,pred_dec))"
   ]
  },
  {
   "cell_type": "code",
   "execution_count": null,
   "id": "18eef6e2",
   "metadata": {},
   "outputs": [],
   "source": []
  },
  {
   "cell_type": "markdown",
   "id": "ce0670a6",
   "metadata": {},
   "source": [
    "\n",
    "## <p style=\"background-color:#B61151; font-family:newtimeroman; color:#FFF9ED; font-size:150%; text-align:center; border-radius:10px 10px;\"> RandomForestClassifier  <p>\n",
    "    \n",
    "### The RandomForestClassifier is an ensemble learning method that builds multiple decision trees and combines their predictions to improve accuracy and robustness in classification tasks.\""
   ]
  },
  {
   "cell_type": "code",
   "execution_count": 48,
   "id": "7c292abf",
   "metadata": {},
   "outputs": [],
   "source": [
    "from sklearn.ensemble import RandomForestClassifier\n",
    "rfc=RandomForestClassifier()"
   ]
  },
  {
   "cell_type": "code",
   "execution_count": 49,
   "id": "4e764022",
   "metadata": {},
   "outputs": [
    {
     "data": {
      "text/html": [
       "<style>#sk-container-id-4 {color: black;}#sk-container-id-4 pre{padding: 0;}#sk-container-id-4 div.sk-toggleable {background-color: white;}#sk-container-id-4 label.sk-toggleable__label {cursor: pointer;display: block;width: 100%;margin-bottom: 0;padding: 0.3em;box-sizing: border-box;text-align: center;}#sk-container-id-4 label.sk-toggleable__label-arrow:before {content: \"▸\";float: left;margin-right: 0.25em;color: #696969;}#sk-container-id-4 label.sk-toggleable__label-arrow:hover:before {color: black;}#sk-container-id-4 div.sk-estimator:hover label.sk-toggleable__label-arrow:before {color: black;}#sk-container-id-4 div.sk-toggleable__content {max-height: 0;max-width: 0;overflow: hidden;text-align: left;background-color: #f0f8ff;}#sk-container-id-4 div.sk-toggleable__content pre {margin: 0.2em;color: black;border-radius: 0.25em;background-color: #f0f8ff;}#sk-container-id-4 input.sk-toggleable__control:checked~div.sk-toggleable__content {max-height: 200px;max-width: 100%;overflow: auto;}#sk-container-id-4 input.sk-toggleable__control:checked~label.sk-toggleable__label-arrow:before {content: \"▾\";}#sk-container-id-4 div.sk-estimator input.sk-toggleable__control:checked~label.sk-toggleable__label {background-color: #d4ebff;}#sk-container-id-4 div.sk-label input.sk-toggleable__control:checked~label.sk-toggleable__label {background-color: #d4ebff;}#sk-container-id-4 input.sk-hidden--visually {border: 0;clip: rect(1px 1px 1px 1px);clip: rect(1px, 1px, 1px, 1px);height: 1px;margin: -1px;overflow: hidden;padding: 0;position: absolute;width: 1px;}#sk-container-id-4 div.sk-estimator {font-family: monospace;background-color: #f0f8ff;border: 1px dotted black;border-radius: 0.25em;box-sizing: border-box;margin-bottom: 0.5em;}#sk-container-id-4 div.sk-estimator:hover {background-color: #d4ebff;}#sk-container-id-4 div.sk-parallel-item::after {content: \"\";width: 100%;border-bottom: 1px solid gray;flex-grow: 1;}#sk-container-id-4 div.sk-label:hover label.sk-toggleable__label {background-color: #d4ebff;}#sk-container-id-4 div.sk-serial::before {content: \"\";position: absolute;border-left: 1px solid gray;box-sizing: border-box;top: 0;bottom: 0;left: 50%;z-index: 0;}#sk-container-id-4 div.sk-serial {display: flex;flex-direction: column;align-items: center;background-color: white;padding-right: 0.2em;padding-left: 0.2em;position: relative;}#sk-container-id-4 div.sk-item {position: relative;z-index: 1;}#sk-container-id-4 div.sk-parallel {display: flex;align-items: stretch;justify-content: center;background-color: white;position: relative;}#sk-container-id-4 div.sk-item::before, #sk-container-id-4 div.sk-parallel-item::before {content: \"\";position: absolute;border-left: 1px solid gray;box-sizing: border-box;top: 0;bottom: 0;left: 50%;z-index: -1;}#sk-container-id-4 div.sk-parallel-item {display: flex;flex-direction: column;z-index: 1;position: relative;background-color: white;}#sk-container-id-4 div.sk-parallel-item:first-child::after {align-self: flex-end;width: 50%;}#sk-container-id-4 div.sk-parallel-item:last-child::after {align-self: flex-start;width: 50%;}#sk-container-id-4 div.sk-parallel-item:only-child::after {width: 0;}#sk-container-id-4 div.sk-dashed-wrapped {border: 1px dashed gray;margin: 0 0.4em 0.5em 0.4em;box-sizing: border-box;padding-bottom: 0.4em;background-color: white;}#sk-container-id-4 div.sk-label label {font-family: monospace;font-weight: bold;display: inline-block;line-height: 1.2em;}#sk-container-id-4 div.sk-label-container {text-align: center;}#sk-container-id-4 div.sk-container {/* jupyter's `normalize.less` sets `[hidden] { display: none; }` but bootstrap.min.css set `[hidden] { display: none !important; }` so we also need the `!important` here to be able to override the default hidden behavior on the sphinx rendered scikit-learn.org. See: https://github.com/scikit-learn/scikit-learn/issues/21755 */display: inline-block !important;position: relative;}#sk-container-id-4 div.sk-text-repr-fallback {display: none;}</style><div id=\"sk-container-id-4\" class=\"sk-top-container\"><div class=\"sk-text-repr-fallback\"><pre>RandomForestClassifier()</pre><b>In a Jupyter environment, please rerun this cell to show the HTML representation or trust the notebook. <br />On GitHub, the HTML representation is unable to render, please try loading this page with nbviewer.org.</b></div><div class=\"sk-container\" hidden><div class=\"sk-item\"><div class=\"sk-estimator sk-toggleable\"><input class=\"sk-toggleable__control sk-hidden--visually\" id=\"sk-estimator-id-4\" type=\"checkbox\" checked><label for=\"sk-estimator-id-4\" class=\"sk-toggleable__label sk-toggleable__label-arrow\">RandomForestClassifier</label><div class=\"sk-toggleable__content\"><pre>RandomForestClassifier()</pre></div></div></div></div></div>"
      ],
      "text/plain": [
       "RandomForestClassifier()"
      ]
     },
     "execution_count": 49,
     "metadata": {},
     "output_type": "execute_result"
    }
   ],
   "source": [
    "rfc.fit(tdm_train,train_y)"
   ]
  },
  {
   "cell_type": "code",
   "execution_count": 50,
   "id": "9759ec8f",
   "metadata": {},
   "outputs": [],
   "source": [
    "pred_rfc=rfc.predict(tdm_test)"
   ]
  },
  {
   "cell_type": "code",
   "execution_count": 51,
   "id": "2a76c588",
   "metadata": {},
   "outputs": [
    {
     "data": {
      "text/plain": [
       "array([[5141,  144],\n",
       "       [1221, 1281]], dtype=int64)"
      ]
     },
     "execution_count": 51,
     "metadata": {},
     "output_type": "execute_result"
    }
   ],
   "source": [
    "tab_rfc=confusion_matrix(test_y,pred_rfc)\n",
    "tab_rfc"
   ]
  },
  {
   "cell_type": "code",
   "execution_count": 52,
   "id": "d461092f",
   "metadata": {},
   "outputs": [
    {
     "data": {
      "text/plain": [
       "0.8247078464106845"
      ]
     },
     "execution_count": 52,
     "metadata": {},
     "output_type": "execute_result"
    }
   ],
   "source": [
    "accuracy_score(test_y,pred_rfc)"
   ]
  },
  {
   "cell_type": "code",
   "execution_count": 53,
   "id": "af3f4484",
   "metadata": {},
   "outputs": [
    {
     "name": "stdout",
     "output_type": "stream",
     "text": [
      "              precision    recall  f1-score   support\n",
      "\n",
      "           0       0.81      0.97      0.88      5285\n",
      "           1       0.90      0.51      0.65      2502\n",
      "\n",
      "    accuracy                           0.82      7787\n",
      "   macro avg       0.85      0.74      0.77      7787\n",
      "weighted avg       0.84      0.82      0.81      7787\n",
      "\n"
     ]
    }
   ],
   "source": [
    "print(classification_report(test_y,pred_rfc))"
   ]
  },
  {
   "cell_type": "code",
   "execution_count": null,
   "id": "6c2614df",
   "metadata": {},
   "outputs": [],
   "source": []
  },
  {
   "cell_type": "markdown",
   "id": "e383946b",
   "metadata": {},
   "source": [
    "\n",
    "<a href=\"#toc\" class=\"btn btn-primary btn-sm\" role=\"button\" aria-pressed=\"true\" \n",
    "style=\"color:black; background-color:#dfa8e4; font-size: 16px; border-width: 2px; font-weight: bold;\" data-toggle=\"popover\">\n",
    "    <span style=\"font-size: 20px;\"> Most Frequent Words from all data</span>"
   ]
  },
  {
   "cell_type": "code",
   "execution_count": 54,
   "id": "c9945793",
   "metadata": {},
   "outputs": [
    {
     "data": {
      "text/plain": [
       "<matplotlib.image.AxesImage at 0x29780944bd0>"
      ]
     },
     "execution_count": 54,
     "metadata": {},
     "output_type": "execute_result"
    },
    {
     "data": {
      "image/png": "[encoded data removed]",
      "text/plain": [
       "<Figure size 1000x1000 with 1 Axes>"
      ]
     },
     "metadata": {},
     "output_type": "display_data"
    }
   ],
   "source": [
    "from wordcloud import WordCloud\n",
    "cloud=WordCloud(stopwords=stopwords.words('english'),max_words=30).generate(str(rw['x']))\n",
    "plt.figure(figsize=(10,10))\n",
    "plt.imshow(cloud)"
   ]
  },
  {
   "cell_type": "code",
   "execution_count": null,
   "id": "3133dd03",
   "metadata": {},
   "outputs": [],
   "source": []
  },
  {
   "cell_type": "markdown",
   "id": "09b49188",
   "metadata": {},
   "source": [
    "\n",
    "\n",
    "<a href=\"#toc\" class=\"btn btn-primary btn-sm\" role=\"button\" aria-pressed=\"true\" \n",
    "style=\"color:black; background-color:#dfa8e4; font-size: 16px; border-width: 2px; font-weight: bold;\" data-toggle=\"popover\">\n",
    "    <span style=\"font-size: 20px;\">Most Frequent Words from class 0 -->happy</span>"
   ]
  },
  {
   "cell_type": "code",
   "execution_count": 55,
   "id": "bae7742f",
   "metadata": {},
   "outputs": [],
   "source": [
    "rw_spam_df0=rw[rw.y==0]"
   ]
  },
  {
   "cell_type": "code",
   "execution_count": 56,
   "id": "956e1633",
   "metadata": {},
   "outputs": [
    {
     "data": {
      "text/plain": [
       "<matplotlib.image.AxesImage at 0x297810b2890>"
      ]
     },
     "execution_count": 56,
     "metadata": {},
     "output_type": "execute_result"
    },
    {
     "data": {
      "image/png": "[encoded data removed]",
      "text/plain": [
       "<Figure size 1000x1000 with 1 Axes>"
      ]
     },
     "metadata": {},
     "output_type": "display_data"
    }
   ],
   "source": [
    "from wordcloud import WordCloud\n",
    "cloud=WordCloud(stopwords=stopwords.words('english'),max_words=40).generate(str(rw_spam_df0['x']))\n",
    "plt.figure(figsize=(10,10))\n",
    "plt.imshow(cloud)"
   ]
  },
  {
   "cell_type": "code",
   "execution_count": null,
   "id": "93734f17",
   "metadata": {},
   "outputs": [],
   "source": []
  },
  {
   "cell_type": "markdown",
   "id": "fa826f42",
   "metadata": {},
   "source": [
    "\n",
    "\n",
    "<a href=\"#toc\" class=\"btn btn-primary btn-sm\" role=\"button\" aria-pressed=\"true\" \n",
    "style=\"color:black; background-color:#dfa8e4; font-size: 16px; border-width: 2px; font-weight: bold;\" data-toggle=\"popover\">\n",
    "    <span style=\"font-size: 20px;\">Most Frequent Words from class 1 -->not happy</span>"
   ]
  },
  {
   "cell_type": "code",
   "execution_count": 57,
   "id": "e4df9c2b",
   "metadata": {},
   "outputs": [],
   "source": [
    "rw_spam_df1=rw[rw.y==1]"
   ]
  },
  {
   "cell_type": "code",
   "execution_count": 58,
   "id": "d3cb8f3a",
   "metadata": {},
   "outputs": [
    {
     "data": {
      "text/plain": [
       "<matplotlib.image.AxesImage at 0x297e71de1d0>"
      ]
     },
     "execution_count": 58,
     "metadata": {},
     "output_type": "execute_result"
    },
    {
     "data": {
      "image/png": "[encoded data removed]",
      "text/plain": [
       "<Figure size 1000x1000 with 1 Axes>"
      ]
     },
     "metadata": {},
     "output_type": "display_data"
    }
   ],
   "source": [
    "cloud=WordCloud(stopwords=stopwords.words('english'),max_words=40).generate(str(rw_spam_df1['x']))\n",
    "plt.figure(figsize=(10,10))\n",
    "plt.imshow(cloud)"
   ]
  },
  {
   "cell_type": "code",
   "execution_count": null,
   "id": "a3bece64",
   "metadata": {},
   "outputs": [],
   "source": []
  },
  {
   "cell_type": "code",
   "execution_count": null,
   "id": "6456baec",
   "metadata": {},
   "outputs": [],
   "source": []
  },
  {
   "cell_type": "markdown",
   "id": "c8524fde",
   "metadata": {},
   "source": [
    "## <p style=\"background-color:#B61151; font-family:newtimeroman; color:#FFF9ED; font-size:150%; text-align:center; border-radius:10px 10px;\">RNN  <p> \n",
    "### \"RNNs are a type of neural network architecture designed to effectively process sequential data by retaining information about previous inputs. They achieve this by incorporating loops within their structure, allowing them to maintain a memory of past information while processing new input. This makes RNNs particularly suitablefor tasks such as time series prediction, natural language processing, and sequence generation."
   ]
  },
  {
   "cell_type": "code",
   "execution_count": 84,
   "id": "5efcb474",
   "metadata": {},
   "outputs": [
    {
     "data": {
      "text/html": [
       "<div>\n",
       "<style scoped>\n",
       "    .dataframe tbody tr th:only-of-type {\n",
       "        vertical-align: middle;\n",
       "    }\n",
       "\n",
       "    .dataframe tbody tr th {\n",
       "        vertical-align: top;\n",
       "    }\n",
       "\n",
       "    .dataframe thead th {\n",
       "        text-align: right;\n",
       "    }\n",
       "</style>\n",
       "<table border=\"1\" class=\"dataframe\">\n",
       "  <thead>\n",
       "    <tr style=\"text-align: right;\">\n",
       "      <th></th>\n",
       "      <th>User_ID</th>\n",
       "      <th>Description</th>\n",
       "      <th>Browser_Used</th>\n",
       "      <th>Device_Used</th>\n",
       "      <th>Is_Response</th>\n",
       "    </tr>\n",
       "  </thead>\n",
       "  <tbody>\n",
       "    <tr>\n",
       "      <th>0</th>\n",
       "      <td>id10326</td>\n",
       "      <td>The room was kind of clean but had a VERY stro...</td>\n",
       "      <td>Edge</td>\n",
       "      <td>Mobile</td>\n",
       "      <td>not happy</td>\n",
       "    </tr>\n",
       "    <tr>\n",
       "      <th>1</th>\n",
       "      <td>id10327</td>\n",
       "      <td>I stayed at the Crown Plaza April -- - April -...</td>\n",
       "      <td>Internet Explorer</td>\n",
       "      <td>Mobile</td>\n",
       "      <td>not happy</td>\n",
       "    </tr>\n",
       "    <tr>\n",
       "      <th>2</th>\n",
       "      <td>id10328</td>\n",
       "      <td>I booked this hotel through Hotwire at the low...</td>\n",
       "      <td>Mozilla</td>\n",
       "      <td>Tablet</td>\n",
       "      <td>not happy</td>\n",
       "    </tr>\n",
       "    <tr>\n",
       "      <th>3</th>\n",
       "      <td>id10329</td>\n",
       "      <td>Stayed here with husband and sons on the way t...</td>\n",
       "      <td>InternetExplorer</td>\n",
       "      <td>Desktop</td>\n",
       "      <td>happy</td>\n",
       "    </tr>\n",
       "    <tr>\n",
       "      <th>4</th>\n",
       "      <td>id10330</td>\n",
       "      <td>My girlfriends and I stayed here to celebrate ...</td>\n",
       "      <td>Edge</td>\n",
       "      <td>Tablet</td>\n",
       "      <td>not happy</td>\n",
       "    </tr>\n",
       "    <tr>\n",
       "      <th>...</th>\n",
       "      <td>...</td>\n",
       "      <td>...</td>\n",
       "      <td>...</td>\n",
       "      <td>...</td>\n",
       "      <td>...</td>\n",
       "    </tr>\n",
       "    <tr>\n",
       "      <th>38927</th>\n",
       "      <td>id49253</td>\n",
       "      <td>We arrived late at night and walked in to a ch...</td>\n",
       "      <td>Edge</td>\n",
       "      <td>Desktop</td>\n",
       "      <td>happy</td>\n",
       "    </tr>\n",
       "    <tr>\n",
       "      <th>38928</th>\n",
       "      <td>id49254</td>\n",
       "      <td>The only positive impression is location and p...</td>\n",
       "      <td>InternetExplorer</td>\n",
       "      <td>Mobile</td>\n",
       "      <td>not happy</td>\n",
       "    </tr>\n",
       "    <tr>\n",
       "      <th>38929</th>\n",
       "      <td>id49255</td>\n",
       "      <td>Traveling with friends for shopping and a show...</td>\n",
       "      <td>Firefox</td>\n",
       "      <td>Mobile</td>\n",
       "      <td>not happy</td>\n",
       "    </tr>\n",
       "    <tr>\n",
       "      <th>38930</th>\n",
       "      <td>id49256</td>\n",
       "      <td>The experience was just ok. We paid extra for ...</td>\n",
       "      <td>Chrome</td>\n",
       "      <td>Desktop</td>\n",
       "      <td>not happy</td>\n",
       "    </tr>\n",
       "    <tr>\n",
       "      <th>38931</th>\n",
       "      <td>id49257</td>\n",
       "      <td>The Westin is a wonderfully restored grande da...</td>\n",
       "      <td>Mozilla</td>\n",
       "      <td>Desktop</td>\n",
       "      <td>happy</td>\n",
       "    </tr>\n",
       "  </tbody>\n",
       "</table>\n",
       "<p>38932 rows × 5 columns</p>\n",
       "</div>"
      ],
      "text/plain": [
       "       User_ID                                        Description  \\\n",
       "0      id10326  The room was kind of clean but had a VERY stro...   \n",
       "1      id10327  I stayed at the Crown Plaza April -- - April -...   \n",
       "2      id10328  I booked this hotel through Hotwire at the low...   \n",
       "3      id10329  Stayed here with husband and sons on the way t...   \n",
       "4      id10330  My girlfriends and I stayed here to celebrate ...   \n",
       "...        ...                                                ...   \n",
       "38927  id49253  We arrived late at night and walked in to a ch...   \n",
       "38928  id49254  The only positive impression is location and p...   \n",
       "38929  id49255  Traveling with friends for shopping and a show...   \n",
       "38930  id49256  The experience was just ok. We paid extra for ...   \n",
       "38931  id49257  The Westin is a wonderfully restored grande da...   \n",
       "\n",
       "            Browser_Used Device_Used Is_Response  \n",
       "0                   Edge      Mobile   not happy  \n",
       "1      Internet Explorer      Mobile   not happy  \n",
       "2                Mozilla      Tablet   not happy  \n",
       "3       InternetExplorer     Desktop       happy  \n",
       "4                   Edge      Tablet   not happy  \n",
       "...                  ...         ...         ...  \n",
       "38927               Edge     Desktop       happy  \n",
       "38928   InternetExplorer      Mobile   not happy  \n",
       "38929            Firefox      Mobile   not happy  \n",
       "38930             Chrome     Desktop   not happy  \n",
       "38931            Mozilla     Desktop       happy  \n",
       "\n",
       "[38932 rows x 5 columns]"
      ]
     },
     "execution_count": 84,
     "metadata": {},
     "output_type": "execute_result"
    }
   ],
   "source": [
    "pd.read_csv(r'D:\\train.csv')"
   ]
  },
  {
   "cell_type": "code",
   "execution_count": 85,
   "id": "0a598e5c",
   "metadata": {},
   "outputs": [],
   "source": [
    "rw=pd.read_csv(r'D:\\train.csv')"
   ]
  },
  {
   "cell_type": "code",
   "execution_count": 86,
   "id": "698fc76b",
   "metadata": {},
   "outputs": [],
   "source": [
    "df=pd.DataFrame(rw['Is_Response'])"
   ]
  },
  {
   "cell_type": "code",
   "execution_count": 87,
   "id": "acbf486f",
   "metadata": {},
   "outputs": [],
   "source": [
    "df['x']=rw['Description']"
   ]
  },
  {
   "cell_type": "code",
   "execution_count": 88,
   "id": "765942ea",
   "metadata": {},
   "outputs": [],
   "source": [
    "df.rename(columns={'Is_Response':'y'},inplace=True)"
   ]
  },
  {
   "cell_type": "code",
   "execution_count": 89,
   "id": "bcf78b51",
   "metadata": {},
   "outputs": [],
   "source": [
    "df.y=df.y.replace({'happy':0,'not happy':1})\n"
   ]
  },
  {
   "cell_type": "code",
   "execution_count": 90,
   "id": "59d6831a",
   "metadata": {},
   "outputs": [
    {
     "data": {
      "text/html": [
       "<div>\n",
       "<style scoped>\n",
       "    .dataframe tbody tr th:only-of-type {\n",
       "        vertical-align: middle;\n",
       "    }\n",
       "\n",
       "    .dataframe tbody tr th {\n",
       "        vertical-align: top;\n",
       "    }\n",
       "\n",
       "    .dataframe thead th {\n",
       "        text-align: right;\n",
       "    }\n",
       "</style>\n",
       "<table border=\"1\" class=\"dataframe\">\n",
       "  <thead>\n",
       "    <tr style=\"text-align: right;\">\n",
       "      <th></th>\n",
       "      <th>y</th>\n",
       "      <th>x</th>\n",
       "    </tr>\n",
       "  </thead>\n",
       "  <tbody>\n",
       "    <tr>\n",
       "      <th>0</th>\n",
       "      <td>1</td>\n",
       "      <td>The room was kind of clean but had a VERY stro...</td>\n",
       "    </tr>\n",
       "    <tr>\n",
       "      <th>1</th>\n",
       "      <td>1</td>\n",
       "      <td>I stayed at the Crown Plaza April -- - April -...</td>\n",
       "    </tr>\n",
       "    <tr>\n",
       "      <th>2</th>\n",
       "      <td>1</td>\n",
       "      <td>I booked this hotel through Hotwire at the low...</td>\n",
       "    </tr>\n",
       "    <tr>\n",
       "      <th>3</th>\n",
       "      <td>0</td>\n",
       "      <td>Stayed here with husband and sons on the way t...</td>\n",
       "    </tr>\n",
       "    <tr>\n",
       "      <th>4</th>\n",
       "      <td>1</td>\n",
       "      <td>My girlfriends and I stayed here to celebrate ...</td>\n",
       "    </tr>\n",
       "  </tbody>\n",
       "</table>\n",
       "</div>"
      ],
      "text/plain": [
       "   y                                                  x\n",
       "0  1  The room was kind of clean but had a VERY stro...\n",
       "1  1  I stayed at the Crown Plaza April -- - April -...\n",
       "2  1  I booked this hotel through Hotwire at the low...\n",
       "3  0  Stayed here with husband and sons on the way t...\n",
       "4  1  My girlfriends and I stayed here to celebrate ..."
      ]
     },
     "execution_count": 90,
     "metadata": {},
     "output_type": "execute_result"
    }
   ],
   "source": [
    "df.head()"
   ]
  },
  {
   "cell_type": "code",
   "execution_count": 91,
   "id": "9235f72a",
   "metadata": {},
   "outputs": [
    {
     "data": {
      "text/plain": [
       "2"
      ]
     },
     "execution_count": 91,
     "metadata": {},
     "output_type": "execute_result"
    }
   ],
   "source": [
    "df.y.nunique()"
   ]
  },
  {
   "cell_type": "code",
   "execution_count": 92,
   "id": "5f0cb379",
   "metadata": {},
   "outputs": [
    {
     "data": {
      "text/plain": [
       "Series([], dtype: int64)"
      ]
     },
     "execution_count": 92,
     "metadata": {},
     "output_type": "execute_result"
    }
   ],
   "source": [
    "df.isnull().sum()[df.isnull().sum()>0]"
   ]
  },
  {
   "cell_type": "markdown",
   "id": "2612254c",
   "metadata": {},
   "source": [
    "<a href=\"#toc\" class=\"btn btn-primary btn-sm\" role=\"button\" aria-pressed=\"true\" \n",
    "style=\"color:black; background-color:#dfa8e4; font-size: 16px; border-width: 2px; font-weight: bold;\" data-toggle=\"popover\">\n",
    "    <span style=\"font-size: 20px;\">Class blance</span>\n",
    "</a>"
   ]
  },
  {
   "cell_type": "code",
   "execution_count": 93,
   "id": "11165ed2",
   "metadata": {},
   "outputs": [],
   "source": [
    "train,test=train_test_split(rw)"
   ]
  },
  {
   "cell_type": "code",
   "execution_count": 94,
   "id": "321f251c",
   "metadata": {},
   "outputs": [],
   "source": [
    "df1=train[train.Is_Response==1]\n",
    "train=pd.concat([train,df1,df1,df1,df1,df1,df1])"
   ]
  },
  {
   "cell_type": "code",
   "execution_count": null,
   "id": "37cae260",
   "metadata": {},
   "outputs": [],
   "source": []
  },
  {
   "cell_type": "markdown",
   "id": "aea3afd6",
   "metadata": {},
   "source": [
    "<a href=\"#toc\" class=\"btn btn-primary btn-sm\" role=\"button\" aria-pressed=\"true\" \n",
    "style=\"color:black; background-color:#dfa8e4; font-size: 16px; border-width: 2px; font-weight: bold;\" data-toggle=\"popover\">\n",
    "    <span style=\"font-size: 20px;\">Spliting Data into Train and Test</span>\n",
    "</a>"
   ]
  },
  {
   "cell_type": "code",
   "execution_count": 95,
   "id": "0bb0a57e",
   "metadata": {},
   "outputs": [],
   "source": [
    "df_x=df.iloc[:,1]\n",
    "df_y=df.iloc[:,0]\n",
    "from sklearn.model_selection import train_test_split\n",
    "\n",
    "x_train,x_test,y_train,y_test=train_test_split(df_x,df_y,test_size=.2)"
   ]
  },
  {
   "cell_type": "code",
   "execution_count": 96,
   "id": "0744f720",
   "metadata": {},
   "outputs": [],
   "source": [
    "from tensorflow.keras.utils import to_categorical\n",
    "\n",
    "# Assuming y_train and y_test are your class labels\n",
    "y_train = to_categorical(y_train)\n",
    "y_test = to_categorical(y_test)"
   ]
  },
  {
   "cell_type": "code",
   "execution_count": 97,
   "id": "8e852542-f687-42aa-b34e-93abacd76c4c",
   "metadata": {},
   "outputs": [],
   "source": [
    "max_num_words=8000 #from entire corpus sleect 10000 words\n",
    "seq_len=100 # how many words out of 10000 you wish to take from each document\n",
    "embedding_size=100 #vector length of each word"
   ]
  },
  {
   "cell_type": "markdown",
   "id": "d8a310de",
   "metadata": {},
   "source": [
    "<a href=\"#toc\" class=\"btn btn-primary btn-sm\" role=\"button\" aria-pressed=\"true\" \n",
    "style=\"color:black; background-color:#dfa8e4; font-size: 16px; border-width: 2px; font-weight: bold;\" data-toggle=\"popover\">\n",
    "    <span style=\"font-size: 20px;\">Sampling</span>\n",
    "</a>"
   ]
  },
  {
   "cell_type": "code",
   "execution_count": 98,
   "id": "0f90694a-e428-4d76-894b-e476befde87d",
   "metadata": {},
   "outputs": [],
   "source": [
    "from keras.preprocessing.text import Tokenizer\n",
    "from keras.preprocessing.sequence import pad_sequences"
   ]
  },
  {
   "cell_type": "code",
   "execution_count": 99,
   "id": "7321ba93-5c0f-46b8-9c31-c264f9b82d33",
   "metadata": {},
   "outputs": [],
   "source": [
    "tokenizer=Tokenizer(num_words=max_num_words)\n",
    "tokenizer.fit_on_texts(df.x)\n",
    "x_train=tokenizer.texts_to_sequences(x_train)\n",
    "x_test=tokenizer.texts_to_sequences(x_test)"
   ]
  },
  {
   "cell_type": "code",
   "execution_count": 100,
   "id": "16385042-c097-4468-a213-cadb608d4d2c",
   "metadata": {},
   "outputs": [],
   "source": [
    "x_train=pad_sequences(x_train,maxlen=seq_len)\n",
    "x_test=pad_sequences(x_test,maxlen=seq_len)\n",
    "\n",
    "model=Sequential()\n",
    "model.add(Embedding(input_dim=max_num_words,\n",
    "                   input_length=seq_len,\n",
    "                   output_dim=embedding_size))"
   ]
  },
  {
   "cell_type": "code",
   "execution_count": 101,
   "id": "5e528938-188e-49e1-ab78-547a050b3fab",
   "metadata": {},
   "outputs": [],
   "source": [
    "model.add(SimpleRNN(128))\n",
    "model.add(Dropout(0.2))\n",
    "model.add(Dense(2,activation='softmax'))\n",
    "\n",
    "from tensorflow.keras.optimizers import Adam\n",
    "adam=Adam(learning_rate=.001)\n",
    "model.compile(optimizer='adam',loss='categorical_crossentropy',metrics=['accuracy'])"
   ]
  },
  {
   "cell_type": "markdown",
   "id": "07cc1307",
   "metadata": {},
   "source": [
    "<a href=\"#toc\" class=\"btn btn-primary btn-sm\" role=\"button\" aria-pressed=\"true\" \n",
    "style=\"color:black; background-color:#dfa8e4; font-size: 16px; border-width: 2px; font-weight: bold;\" data-toggle=\"popover\">\n",
    "    <span style=\"font-size: 20px;\">Fit The Model</span>\n",
    "</a>"
   ]
  },
  {
   "cell_type": "code",
   "execution_count": 102,
   "id": "d61cefb1",
   "metadata": {},
   "outputs": [
    {
     "name": "stdout",
     "output_type": "stream",
     "text": [
      "Epoch 1/8\n",
      "779/779 [==============================] - 22s 26ms/step - loss: 0.5766 - accuracy: 0.6994 - val_loss: 0.4324 - val_accuracy: 0.8075\n",
      "Epoch 2/8\n",
      "779/779 [==============================] - 26s 34ms/step - loss: 0.4375 - accuracy: 0.8037 - val_loss: 0.5583 - val_accuracy: 0.7152\n",
      "Epoch 3/8\n",
      "779/779 [==============================] - 28s 36ms/step - loss: 0.4928 - accuracy: 0.7600 - val_loss: 0.4478 - val_accuracy: 0.7947\n",
      "Epoch 4/8\n",
      "779/779 [==============================] - 29s 37ms/step - loss: 0.4358 - accuracy: 0.8078 - val_loss: 0.5352 - val_accuracy: 0.7385\n",
      "Epoch 5/8\n",
      "779/779 [==============================] - 22s 29ms/step - loss: 0.4876 - accuracy: 0.7675 - val_loss: 0.4800 - val_accuracy: 0.7886\n",
      "Epoch 6/8\n",
      "779/779 [==============================] - 22s 29ms/step - loss: 0.4231 - accuracy: 0.8138 - val_loss: 0.4382 - val_accuracy: 0.8056\n",
      "Epoch 7/8\n",
      "779/779 [==============================] - 23s 29ms/step - loss: 0.4173 - accuracy: 0.8176 - val_loss: 0.4750 - val_accuracy: 0.7781\n",
      "Epoch 8/8\n",
      "779/779 [==============================] - 22s 28ms/step - loss: 0.4855 - accuracy: 0.7652 - val_loss: 0.5461 - val_accuracy: 0.7232\n"
     ]
    },
    {
     "data": {
      "text/plain": [
       "<keras.src.callbacks.History at 0x29787e0d6d0>"
      ]
     },
     "execution_count": 102,
     "metadata": {},
     "output_type": "execute_result"
    }
   ],
   "source": [
    "model.fit(x_train,y_train,epochs=8,batch_size=32,validation_split=.2)"
   ]
  },
  {
   "cell_type": "code",
   "execution_count": 103,
   "id": "39f9c401-8b4e-4416-a23d-30b9e2d1088f",
   "metadata": {},
   "outputs": [
    {
     "name": "stdout",
     "output_type": "stream",
     "text": [
      "244/244 [==============================] - 2s 8ms/step\n"
     ]
    }
   ],
   "source": [
    "pred_prob=model.predict(x_test)"
   ]
  },
  {
   "cell_type": "code",
   "execution_count": 104,
   "id": "677c2046-fff5-4a84-93f1-eeef239a953c",
   "metadata": {},
   "outputs": [],
   "source": [
    "pred=pred_prob.argmax(axis=1)"
   ]
  },
  {
   "cell_type": "code",
   "execution_count": 105,
   "id": "8b22a4dd-8625-47d4-ae6d-b687e026d916",
   "metadata": {},
   "outputs": [],
   "source": [
    "y_test=y_test.argmax(axis=1)"
   ]
  },
  {
   "cell_type": "code",
   "execution_count": 106,
   "id": "03cee724-b668-4200-8108-88a01042347b",
   "metadata": {},
   "outputs": [
    {
     "data": {
      "text/plain": [
       "array([[4759,  599],\n",
       "       [1600,  829]], dtype=int64)"
      ]
     },
     "execution_count": 106,
     "metadata": {},
     "output_type": "execute_result"
    }
   ],
   "source": [
    "confusion_matrix(y_test,pred)"
   ]
  },
  {
   "cell_type": "code",
   "execution_count": 107,
   "id": "10c529d1-fabb-4538-9b68-db5918e7e9f6",
   "metadata": {},
   "outputs": [
    {
     "name": "stdout",
     "output_type": "stream",
     "text": [
      "              precision    recall  f1-score   support\n",
      "\n",
      "           0       0.75      0.89      0.81      5358\n",
      "           1       0.58      0.34      0.43      2429\n",
      "\n",
      "    accuracy                           0.72      7787\n",
      "   macro avg       0.66      0.61      0.62      7787\n",
      "weighted avg       0.70      0.72      0.69      7787\n",
      "\n"
     ]
    }
   ],
   "source": [
    "print(classification_report(y_test,pred))"
   ]
  },
  {
   "cell_type": "code",
   "execution_count": 108,
   "id": "432814fc-6b70-4b5c-9c72-22cbdbe7eadb",
   "metadata": {},
   "outputs": [
    {
     "data": {
      "text/plain": [
       "0.7176062668550147"
      ]
     },
     "execution_count": 108,
     "metadata": {},
     "output_type": "execute_result"
    }
   ],
   "source": [
    "accuracy_score(y_test,pred)"
   ]
  },
  {
   "cell_type": "code",
   "execution_count": null,
   "id": "a57828cd",
   "metadata": {},
   "outputs": [],
   "source": []
  },
  {
   "cell_type": "markdown",
   "id": "e0141989",
   "metadata": {},
   "source": [
    "## <p style=\"background-color:#B61151; font-family:newtimeroman; color:#FFF9ED; font-size:150%; text-align:center; border-radius:10px 10px;\">LSTM  <p> \n",
    "    \n",
    "### \"LSTM networks are a type of recurrent neural network (RNN) architecture designed to address the vanishing gradient problem and capture long-term dependencies in sequential data. They achieve this by introducing specialized memory cells with gating mechanisms, allowing them to selectively retain and update information over multiple time steps. This enables LSTMs to effectively model complex sequential patterns, making themwell-suited for tasks such as speech recognition, language translation, and time series forecasting.\"    \n",
    "    \n",
    "    "
   ]
  },
  {
   "cell_type": "code",
   "execution_count": 109,
   "id": "edfb494a",
   "metadata": {},
   "outputs": [
    {
     "data": {
      "text/html": [
       "<div>\n",
       "<style scoped>\n",
       "    .dataframe tbody tr th:only-of-type {\n",
       "        vertical-align: middle;\n",
       "    }\n",
       "\n",
       "    .dataframe tbody tr th {\n",
       "        vertical-align: top;\n",
       "    }\n",
       "\n",
       "    .dataframe thead th {\n",
       "        text-align: right;\n",
       "    }\n",
       "</style>\n",
       "<table border=\"1\" class=\"dataframe\">\n",
       "  <thead>\n",
       "    <tr style=\"text-align: right;\">\n",
       "      <th></th>\n",
       "      <th>User_ID</th>\n",
       "      <th>Description</th>\n",
       "      <th>Browser_Used</th>\n",
       "      <th>Device_Used</th>\n",
       "      <th>Is_Response</th>\n",
       "    </tr>\n",
       "  </thead>\n",
       "  <tbody>\n",
       "    <tr>\n",
       "      <th>0</th>\n",
       "      <td>id10326</td>\n",
       "      <td>The room was kind of clean but had a VERY stro...</td>\n",
       "      <td>Edge</td>\n",
       "      <td>Mobile</td>\n",
       "      <td>not happy</td>\n",
       "    </tr>\n",
       "    <tr>\n",
       "      <th>1</th>\n",
       "      <td>id10327</td>\n",
       "      <td>I stayed at the Crown Plaza April -- - April -...</td>\n",
       "      <td>Internet Explorer</td>\n",
       "      <td>Mobile</td>\n",
       "      <td>not happy</td>\n",
       "    </tr>\n",
       "    <tr>\n",
       "      <th>2</th>\n",
       "      <td>id10328</td>\n",
       "      <td>I booked this hotel through Hotwire at the low...</td>\n",
       "      <td>Mozilla</td>\n",
       "      <td>Tablet</td>\n",
       "      <td>not happy</td>\n",
       "    </tr>\n",
       "    <tr>\n",
       "      <th>3</th>\n",
       "      <td>id10329</td>\n",
       "      <td>Stayed here with husband and sons on the way t...</td>\n",
       "      <td>InternetExplorer</td>\n",
       "      <td>Desktop</td>\n",
       "      <td>happy</td>\n",
       "    </tr>\n",
       "    <tr>\n",
       "      <th>4</th>\n",
       "      <td>id10330</td>\n",
       "      <td>My girlfriends and I stayed here to celebrate ...</td>\n",
       "      <td>Edge</td>\n",
       "      <td>Tablet</td>\n",
       "      <td>not happy</td>\n",
       "    </tr>\n",
       "    <tr>\n",
       "      <th>...</th>\n",
       "      <td>...</td>\n",
       "      <td>...</td>\n",
       "      <td>...</td>\n",
       "      <td>...</td>\n",
       "      <td>...</td>\n",
       "    </tr>\n",
       "    <tr>\n",
       "      <th>38927</th>\n",
       "      <td>id49253</td>\n",
       "      <td>We arrived late at night and walked in to a ch...</td>\n",
       "      <td>Edge</td>\n",
       "      <td>Desktop</td>\n",
       "      <td>happy</td>\n",
       "    </tr>\n",
       "    <tr>\n",
       "      <th>38928</th>\n",
       "      <td>id49254</td>\n",
       "      <td>The only positive impression is location and p...</td>\n",
       "      <td>InternetExplorer</td>\n",
       "      <td>Mobile</td>\n",
       "      <td>not happy</td>\n",
       "    </tr>\n",
       "    <tr>\n",
       "      <th>38929</th>\n",
       "      <td>id49255</td>\n",
       "      <td>Traveling with friends for shopping and a show...</td>\n",
       "      <td>Firefox</td>\n",
       "      <td>Mobile</td>\n",
       "      <td>not happy</td>\n",
       "    </tr>\n",
       "    <tr>\n",
       "      <th>38930</th>\n",
       "      <td>id49256</td>\n",
       "      <td>The experience was just ok. We paid extra for ...</td>\n",
       "      <td>Chrome</td>\n",
       "      <td>Desktop</td>\n",
       "      <td>not happy</td>\n",
       "    </tr>\n",
       "    <tr>\n",
       "      <th>38931</th>\n",
       "      <td>id49257</td>\n",
       "      <td>The Westin is a wonderfully restored grande da...</td>\n",
       "      <td>Mozilla</td>\n",
       "      <td>Desktop</td>\n",
       "      <td>happy</td>\n",
       "    </tr>\n",
       "  </tbody>\n",
       "</table>\n",
       "<p>38932 rows × 5 columns</p>\n",
       "</div>"
      ],
      "text/plain": [
       "       User_ID                                        Description  \\\n",
       "0      id10326  The room was kind of clean but had a VERY stro...   \n",
       "1      id10327  I stayed at the Crown Plaza April -- - April -...   \n",
       "2      id10328  I booked this hotel through Hotwire at the low...   \n",
       "3      id10329  Stayed here with husband and sons on the way t...   \n",
       "4      id10330  My girlfriends and I stayed here to celebrate ...   \n",
       "...        ...                                                ...   \n",
       "38927  id49253  We arrived late at night and walked in to a ch...   \n",
       "38928  id49254  The only positive impression is location and p...   \n",
       "38929  id49255  Traveling with friends for shopping and a show...   \n",
       "38930  id49256  The experience was just ok. We paid extra for ...   \n",
       "38931  id49257  The Westin is a wonderfully restored grande da...   \n",
       "\n",
       "            Browser_Used Device_Used Is_Response  \n",
       "0                   Edge      Mobile   not happy  \n",
       "1      Internet Explorer      Mobile   not happy  \n",
       "2                Mozilla      Tablet   not happy  \n",
       "3       InternetExplorer     Desktop       happy  \n",
       "4                   Edge      Tablet   not happy  \n",
       "...                  ...         ...         ...  \n",
       "38927               Edge     Desktop       happy  \n",
       "38928   InternetExplorer      Mobile   not happy  \n",
       "38929            Firefox      Mobile   not happy  \n",
       "38930             Chrome     Desktop   not happy  \n",
       "38931            Mozilla     Desktop       happy  \n",
       "\n",
       "[38932 rows x 5 columns]"
      ]
     },
     "execution_count": 109,
     "metadata": {},
     "output_type": "execute_result"
    }
   ],
   "source": [
    "pd.read_csv(r'D:\\train.csv')"
   ]
  },
  {
   "cell_type": "code",
   "execution_count": 110,
   "id": "128b3864",
   "metadata": {},
   "outputs": [],
   "source": [
    "rw=pd.read_csv(r'D:\\train.csv')"
   ]
  },
  {
   "cell_type": "code",
   "execution_count": 111,
   "id": "e6b80eff",
   "metadata": {},
   "outputs": [],
   "source": [
    "df=pd.DataFrame(rw['Is_Response'])"
   ]
  },
  {
   "cell_type": "code",
   "execution_count": 112,
   "id": "36e3f60b",
   "metadata": {},
   "outputs": [],
   "source": [
    "df['x']=rw['Description']"
   ]
  },
  {
   "cell_type": "code",
   "execution_count": 113,
   "id": "1ea7dc35",
   "metadata": {},
   "outputs": [],
   "source": [
    "df.rename(columns={'Is_Response':'y'},inplace=True)"
   ]
  },
  {
   "cell_type": "code",
   "execution_count": 114,
   "id": "ef3ba10d",
   "metadata": {},
   "outputs": [],
   "source": [
    "df.y=df.y.replace({'happy':0,'not happy':1})\n"
   ]
  },
  {
   "cell_type": "code",
   "execution_count": 115,
   "id": "9880e4ab",
   "metadata": {},
   "outputs": [
    {
     "data": {
      "text/html": [
       "<div>\n",
       "<style scoped>\n",
       "    .dataframe tbody tr th:only-of-type {\n",
       "        vertical-align: middle;\n",
       "    }\n",
       "\n",
       "    .dataframe tbody tr th {\n",
       "        vertical-align: top;\n",
       "    }\n",
       "\n",
       "    .dataframe thead th {\n",
       "        text-align: right;\n",
       "    }\n",
       "</style>\n",
       "<table border=\"1\" class=\"dataframe\">\n",
       "  <thead>\n",
       "    <tr style=\"text-align: right;\">\n",
       "      <th></th>\n",
       "      <th>y</th>\n",
       "      <th>x</th>\n",
       "    </tr>\n",
       "  </thead>\n",
       "  <tbody>\n",
       "    <tr>\n",
       "      <th>0</th>\n",
       "      <td>1</td>\n",
       "      <td>The room was kind of clean but had a VERY stro...</td>\n",
       "    </tr>\n",
       "    <tr>\n",
       "      <th>1</th>\n",
       "      <td>1</td>\n",
       "      <td>I stayed at the Crown Plaza April -- - April -...</td>\n",
       "    </tr>\n",
       "    <tr>\n",
       "      <th>2</th>\n",
       "      <td>1</td>\n",
       "      <td>I booked this hotel through Hotwire at the low...</td>\n",
       "    </tr>\n",
       "    <tr>\n",
       "      <th>3</th>\n",
       "      <td>0</td>\n",
       "      <td>Stayed here with husband and sons on the way t...</td>\n",
       "    </tr>\n",
       "    <tr>\n",
       "      <th>4</th>\n",
       "      <td>1</td>\n",
       "      <td>My girlfriends and I stayed here to celebrate ...</td>\n",
       "    </tr>\n",
       "  </tbody>\n",
       "</table>\n",
       "</div>"
      ],
      "text/plain": [
       "   y                                                  x\n",
       "0  1  The room was kind of clean but had a VERY stro...\n",
       "1  1  I stayed at the Crown Plaza April -- - April -...\n",
       "2  1  I booked this hotel through Hotwire at the low...\n",
       "3  0  Stayed here with husband and sons on the way t...\n",
       "4  1  My girlfriends and I stayed here to celebrate ..."
      ]
     },
     "execution_count": 115,
     "metadata": {},
     "output_type": "execute_result"
    }
   ],
   "source": [
    "df.head()"
   ]
  },
  {
   "cell_type": "code",
   "execution_count": 116,
   "id": "f5d993cb",
   "metadata": {},
   "outputs": [
    {
     "data": {
      "text/plain": [
       "2"
      ]
     },
     "execution_count": 116,
     "metadata": {},
     "output_type": "execute_result"
    }
   ],
   "source": [
    "df.y.nunique()"
   ]
  },
  {
   "cell_type": "code",
   "execution_count": 117,
   "id": "b94161f2",
   "metadata": {},
   "outputs": [
    {
     "data": {
      "text/plain": [
       "Series([], dtype: int64)"
      ]
     },
     "execution_count": 117,
     "metadata": {},
     "output_type": "execute_result"
    }
   ],
   "source": [
    "df.isnull().sum()[df.isnull().sum()>0]"
   ]
  },
  {
   "cell_type": "markdown",
   "id": "f2870e07",
   "metadata": {},
   "source": [
    "<a href=\"#toc\" class=\"btn btn-primary btn-sm\" role=\"button\" aria-pressed=\"true\" \n",
    "style=\"color:black; background-color:#dfa8e4; font-size: 16px; border-width: 2px; font-weight: bold;\" data-toggle=\"popover\">\n",
    "    <span style=\"font-size: 20px;\">Class blance</span>\n",
    "</a>"
   ]
  },
  {
   "cell_type": "code",
   "execution_count": 118,
   "id": "ff4390ea",
   "metadata": {},
   "outputs": [],
   "source": [
    "train,test=train_test_split(rw)"
   ]
  },
  {
   "cell_type": "code",
   "execution_count": 119,
   "id": "5a45d713",
   "metadata": {},
   "outputs": [],
   "source": [
    "df1=train[train.Is_Response==1]\n",
    "train=pd.concat([train,df1,df1,df1,df1,df1,df1])"
   ]
  },
  {
   "cell_type": "markdown",
   "id": "1c7e3803",
   "metadata": {},
   "source": [
    "<a href=\"#toc\" class=\"btn btn-primary btn-sm\" role=\"button\" aria-pressed=\"true\" \n",
    "style=\"color:black; background-color:#dfa8e4; font-size: 16px; border-width: 2px; font-weight: bold;\" data-toggle=\"popover\">\n",
    "    <span style=\"font-size: 20px;\">Spliting Data into Train and Test</span>\n",
    "</a>"
   ]
  },
  {
   "cell_type": "code",
   "execution_count": 120,
   "id": "da0fc8d0",
   "metadata": {},
   "outputs": [],
   "source": [
    "df_x=df.iloc[:,1]\n",
    "df_y=df.iloc[:,0]\n",
    "from sklearn.model_selection import train_test_split\n",
    "\n",
    "x_train,x_test,y_train,y_test=train_test_split(df_x,df_y,test_size=.2)"
   ]
  },
  {
   "cell_type": "code",
   "execution_count": 121,
   "id": "28d01be8",
   "metadata": {},
   "outputs": [],
   "source": [
    "from tensorflow.keras.utils import to_categorical\n",
    "\n",
    "# Assuming y_train and y_test are your class labels\n",
    "y_train = to_categorical(y_train)\n",
    "y_test = to_categorical(y_test)"
   ]
  },
  {
   "cell_type": "code",
   "execution_count": 122,
   "id": "8c80567a",
   "metadata": {},
   "outputs": [],
   "source": [
    "max_num_words=8000 #from entire corpus sleect 10000 words\n",
    "seq_len=100 # how many words out of 10000 you wish to take from each document\n",
    "embedding_size=100 #vector length of each word"
   ]
  },
  {
   "cell_type": "markdown",
   "id": "95f2ed95",
   "metadata": {},
   "source": [
    "<a href=\"#toc\" class=\"btn btn-primary btn-sm\" role=\"button\" aria-pressed=\"true\" \n",
    "style=\"color:black; background-color:#dfa8e4; font-size: 16px; border-width: 2px; font-weight: bold;\" data-toggle=\"popover\">\n",
    "    <span style=\"font-size: 20px;\">Sampling</span>\n",
    "</a>"
   ]
  },
  {
   "cell_type": "code",
   "execution_count": 123,
   "id": "91cb8805",
   "metadata": {},
   "outputs": [],
   "source": [
    "tokenizer=Tokenizer(num_words=max_num_words)\n",
    "tokenizer.fit_on_texts(df.x)\n",
    "x_train=tokenizer.texts_to_sequences(x_train)\n",
    "x_test=tokenizer.texts_to_sequences(x_test)"
   ]
  },
  {
   "cell_type": "code",
   "execution_count": 124,
   "id": "dbb497c0",
   "metadata": {},
   "outputs": [],
   "source": [
    "x_train=pad_sequences(x_train,maxlen=seq_len)\n",
    "x_test=pad_sequences(x_test,maxlen=seq_len)\n",
    "\n",
    "model=Sequential()\n",
    "model.add(Embedding(input_dim=max_num_words,\n",
    "                   input_length=seq_len,\n",
    "                   output_dim=embedding_size))"
   ]
  },
  {
   "cell_type": "code",
   "execution_count": 125,
   "id": "8e796eb8",
   "metadata": {},
   "outputs": [],
   "source": [
    "model.add(LSTM(128))\n",
    "model.add(Dropout(0.2))\n",
    "model.add(Dense(2,activation='softmax'))\n",
    "\n",
    "from tensorflow.keras.optimizers import Adam\n",
    "adam=Adam(learning_rate=.001)\n",
    "model.compile(optimizer='adam',loss='categorical_crossentropy',metrics=['accuracy'])"
   ]
  },
  {
   "cell_type": "markdown",
   "id": "53f01406",
   "metadata": {},
   "source": [
    "<a href=\"#toc\" class=\"btn btn-primary btn-sm\" role=\"button\" aria-pressed=\"true\" \n",
    "style=\"color:black; background-color:#dfa8e4; font-size: 16px; border-width: 2px; font-weight: bold;\" data-toggle=\"popover\">\n",
    "    <span style=\"font-size: 20px;\">Fit The Model</span>\n",
    "</a>"
   ]
  },
  {
   "cell_type": "code",
   "execution_count": 126,
   "id": "c09c812d",
   "metadata": {},
   "outputs": [
    {
     "name": "stdout",
     "output_type": "stream",
     "text": [
      "Epoch 1/8\n",
      "779/779 [==============================] - 59s 73ms/step - loss: 0.4125 - accuracy: 0.8157 - val_loss: 0.3541 - val_accuracy: 0.8430\n",
      "Epoch 2/8\n",
      "779/779 [==============================] - 54s 70ms/step - loss: 0.2881 - accuracy: 0.8841 - val_loss: 0.3433 - val_accuracy: 0.8531\n",
      "Epoch 3/8\n",
      "779/779 [==============================] - 54s 69ms/step - loss: 0.2337 - accuracy: 0.9081 - val_loss: 0.4075 - val_accuracy: 0.8496\n",
      "Epoch 4/8\n",
      "779/779 [==============================] - 57s 73ms/step - loss: 0.1879 - accuracy: 0.9283 - val_loss: 0.3976 - val_accuracy: 0.8537\n",
      "Epoch 5/8\n",
      "779/779 [==============================] - 54s 69ms/step - loss: 0.1575 - accuracy: 0.9421 - val_loss: 0.4274 - val_accuracy: 0.8403\n",
      "Epoch 6/8\n",
      "779/779 [==============================] - 54s 69ms/step - loss: 0.1320 - accuracy: 0.9512 - val_loss: 0.4979 - val_accuracy: 0.8354\n",
      "Epoch 7/8\n",
      "779/779 [==============================] - 55s 70ms/step - loss: 0.1132 - accuracy: 0.9612 - val_loss: 0.5593 - val_accuracy: 0.8396\n",
      "Epoch 8/8\n",
      "779/779 [==============================] - 59s 75ms/step - loss: 0.0805 - accuracy: 0.9728 - val_loss: 0.6464 - val_accuracy: 0.8234\n"
     ]
    },
    {
     "data": {
      "text/plain": [
       "<keras.src.callbacks.History at 0x29787e28ad0>"
      ]
     },
     "execution_count": 126,
     "metadata": {},
     "output_type": "execute_result"
    }
   ],
   "source": [
    "model.fit(x_train,y_train,epochs=8,batch_size=32,validation_split=.2)"
   ]
  },
  {
   "cell_type": "code",
   "execution_count": 127,
   "id": "26b9f2f0",
   "metadata": {},
   "outputs": [
    {
     "name": "stdout",
     "output_type": "stream",
     "text": [
      "244/244 [==============================] - 8s 31ms/step\n"
     ]
    }
   ],
   "source": [
    "pred_prob=model.predict(x_test)"
   ]
  },
  {
   "cell_type": "code",
   "execution_count": 128,
   "id": "460e42f6",
   "metadata": {},
   "outputs": [],
   "source": [
    "pred=pred_prob.argmax(axis=1)"
   ]
  },
  {
   "cell_type": "code",
   "execution_count": 129,
   "id": "9d8b0579",
   "metadata": {},
   "outputs": [],
   "source": [
    "y_test=y_test.argmax(axis=1)"
   ]
  },
  {
   "cell_type": "code",
   "execution_count": 130,
   "id": "8b18a6e4",
   "metadata": {},
   "outputs": [
    {
     "data": {
      "text/plain": [
       "array([[4465,  857],\n",
       "       [ 564, 1901]], dtype=int64)"
      ]
     },
     "execution_count": 130,
     "metadata": {},
     "output_type": "execute_result"
    }
   ],
   "source": [
    "confusion_matrix(y_test,pred)"
   ]
  },
  {
   "cell_type": "code",
   "execution_count": 131,
   "id": "afee32d8",
   "metadata": {},
   "outputs": [
    {
     "name": "stdout",
     "output_type": "stream",
     "text": [
      "              precision    recall  f1-score   support\n",
      "\n",
      "           0       0.89      0.84      0.86      5322\n",
      "           1       0.69      0.77      0.73      2465\n",
      "\n",
      "    accuracy                           0.82      7787\n",
      "   macro avg       0.79      0.81      0.80      7787\n",
      "weighted avg       0.82      0.82      0.82      7787\n",
      "\n"
     ]
    }
   ],
   "source": [
    "print(classification_report(y_test,pred))"
   ]
  },
  {
   "cell_type": "code",
   "execution_count": 132,
   "id": "cd543df6",
   "metadata": {},
   "outputs": [
    {
     "data": {
      "text/plain": [
       "0.8175163734429177"
      ]
     },
     "execution_count": 132,
     "metadata": {},
     "output_type": "execute_result"
    }
   ],
   "source": [
    "accuracy_score(y_test,pred)"
   ]
  },
  {
   "cell_type": "code",
   "execution_count": null,
   "id": "007bad99",
   "metadata": {},
   "outputs": [],
   "source": []
  },
  {
   "cell_type": "code",
   "execution_count": null,
   "id": "4122d88d",
   "metadata": {},
   "outputs": [],
   "source": []
  },
  {
   "cell_type": "markdown",
   "id": "2cc090af",
   "metadata": {},
   "source": [
    "# Compression of Models"
   ]
  },
  {
   "cell_type": "code",
   "execution_count": 154,
   "id": "d8041d62",
   "metadata": {},
   "outputs": [
    {
     "data": {
      "text/html": [
       "<div>\n",
       "<style scoped>\n",
       "    .dataframe tbody tr th:only-of-type {\n",
       "        vertical-align: middle;\n",
       "    }\n",
       "\n",
       "    .dataframe tbody tr th {\n",
       "        vertical-align: top;\n",
       "    }\n",
       "\n",
       "    .dataframe thead th {\n",
       "        text-align: right;\n",
       "    }\n",
       "</style>\n",
       "<table border=\"1\" class=\"dataframe\">\n",
       "  <thead>\n",
       "    <tr style=\"text-align: right;\">\n",
       "      <th></th>\n",
       "      <th>Models</th>\n",
       "      <th>Accuracy</th>\n",
       "    </tr>\n",
       "  </thead>\n",
       "  <tbody>\n",
       "    <tr>\n",
       "      <th>0</th>\n",
       "      <td>Naive Bayes</td>\n",
       "      <td>86.50</td>\n",
       "    </tr>\n",
       "    <tr>\n",
       "      <th>1</th>\n",
       "      <td>LogisticRegression</td>\n",
       "      <td>86.55</td>\n",
       "    </tr>\n",
       "    <tr>\n",
       "      <th>2</th>\n",
       "      <td>DecisionTreeClassifier</td>\n",
       "      <td>75.30</td>\n",
       "    </tr>\n",
       "    <tr>\n",
       "      <th>3</th>\n",
       "      <td>RandomForestClassifier</td>\n",
       "      <td>82.36</td>\n",
       "    </tr>\n",
       "    <tr>\n",
       "      <th>4</th>\n",
       "      <td>RNN</td>\n",
       "      <td>80.00</td>\n",
       "    </tr>\n",
       "    <tr>\n",
       "      <th>5</th>\n",
       "      <td>LSTM</td>\n",
       "      <td>82.52</td>\n",
       "    </tr>\n",
       "  </tbody>\n",
       "</table>\n",
       "</div>"
      ],
      "text/plain": [
       "                   Models  Accuracy\n",
       "0            Naive Bayes      86.50\n",
       "1      LogisticRegression     86.55\n",
       "2  DecisionTreeClassifier     75.30\n",
       "3  RandomForestClassifier     82.36\n",
       "4                     RNN     80.00\n",
       "5                    LSTM     82.52"
      ]
     },
     "execution_count": 154,
     "metadata": {},
     "output_type": "execute_result"
    }
   ],
   "source": [
    "\n",
    "l1=('Naive Bayes ','LogisticRegression','DecisionTreeClassifier','RandomForestClassifier',\n",
    "    'RNN','LSTM')\n",
    "l2=(86.50,86.55,75.30,82.36,80.00,82.52)\n",
    "\n",
    "importances=pd.DataFrame()\n",
    "importances['Models']=l1\n",
    "importances['Accuracy']=l2\n",
    "\n",
    "importances"
   ]
  },
  {
   "cell_type": "code",
   "execution_count": null,
   "id": "d529881c",
   "metadata": {},
   "outputs": [],
   "source": []
  },
  {
   "cell_type": "markdown",
   "id": "eac169ea",
   "metadata": {},
   "source": [
    "# CONCLUSION\n",
    "- **Analyzing and classifying these types of text data can provide valuable insights for\n",
    "Hotel feedback, researchers, and customer, facilitating better understanding,\n",
    "Improvement, and management of Hotel Business.\n"
   ]
  },
  {
   "cell_type": "code",
   "execution_count": null,
   "id": "8fcc219f",
   "metadata": {},
   "outputs": [],
   "source": []
  },
  {
   "cell_type": "markdown",
   "id": "cac463da",
   "metadata": {},
   "source": [
    "<p style=\"background-color:purple; font-family:newtimeroman; color:#FFF9ED; font-size:200%; text-align:center; border-radius:20px; padding:20px;\"><strong>Thank You :)</strong></p>\n"
   ]
  },
  {
   "cell_type": "code",
   "execution_count": null,
   "id": "710234a3",
   "metadata": {},
   "outputs": [],
   "source": []
  },
  {
   "cell_type": "code",
   "execution_count": null,
   "id": "e60ffe5c",
   "metadata": {},
   "outputs": [],
   "source": []
  }
 ],
 "metadata": {
  "kernelspec": {
   "display_name": "Python 3 (ipykernel)",
   "language": "python",
   "name": "python3"
  },
  "language_info": {
   "codemirror_mode": {
    "name": "ipython",
    "version": 3
   },
   "file_extension": ".py",
   "mimetype": "text/x-python",
   "name": "python",
   "nbconvert_exporter": "python",
   "pygments_lexer": "ipython3",
   "version": "3.11.4"
  }
 },
 "nbformat": 4,
 "nbformat_minor": 5
}
